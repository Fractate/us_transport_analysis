{
 "cells": [
  {
   "attachments": {},
   "cell_type": "markdown",
   "metadata": {},
   "source": [
    "zip or county level\n",
    "\n",
    "road density\n",
    "\n",
    "business density\n",
    "\n",
    "housing density\n",
    "\n",
    "\n",
    "^ does this correlate with walkability to an extent?\n",
    "\n",
    "regressions with walking commute\n",
    "regressions with public transit commute\n",
    "\n",
    "bus use vs subway rail"
   ]
  },
  {
   "cell_type": "code",
   "execution_count": 3,
   "metadata": {},
   "outputs": [],
   "source": [
    "# Init\n",
    "# choropleth\n",
    "from __future__ import division\n",
    "import pandas as pd\n",
    "import numpy as np\n",
    "import statsmodels.api as sm\n",
    "import statsmodels.formula.api as smf\n",
    "import os\n",
    "import matplotlib.pyplot as plt\n",
    "import seaborn as sns"
   ]
  },
  {
   "attachments": {},
   "cell_type": "markdown",
   "metadata": {},
   "source": [
    "# County level data retrieval"
   ]
  },
  {
   "cell_type": "code",
   "execution_count": 4,
   "metadata": {},
   "outputs": [
    {
     "name": "stdout",
     "output_type": "stream",
     "text": [
      "['Unnamed: 0', 'Unnamed: 0_x', 'zip', 'total_population', 'log_total_population', 'population_density', 'total_workers', 'land_area', 'sqrt_land_area', 'aggregate_num_vehicles', 'aggregate_time_commute', 'aggregate_time_commute_drive_alone', 'aggregate_time_commute_carpool', 'aggregate_time_commute_public_transit', 'aggregate_time_commute_other_means', 'total_workers_drove_alone', 'total_workers_carpooled', 'total_workers_public_transit', 'total_workers_other_means', 'ttl_wrkr_cmute', 'wrkrs_drove_alone', 'wrkrs_drove_alone_below_100_poverty', 'pct_wrkrs_drove_alone_below_100_poverty', 'wrkrs_drove_alone_100_to_150_poverty', 'wrkrs_drove_alone_over_150_poverty', 'wrkrs_carpool', 'wrkrs_carpool_below_100_poverty', 'pct_wrkrs_carpool_below_100_poverty', 'wrkrs_carpool_100_to_150_poverty', 'wrkrs_carpool_over_150_poverty', 'wrkrs_public_transit', 'wrkrs_public_transit_below_100_poverty', 'pct_wrkrs_public_transit_below_100_poverty', 'wrkrs_public_transit_100_to_150_poverty', 'wrkrs_public_transit_over_150_poverty', 'wrkrs_walked', 'wrkrs_walked_below_100_poverty', 'pct_wrkrs_walked_below_100_poverty', 'wrkrs_walked_100_to_150_poverty', 'wrkrs_walked_over_150_poverty', 'wrkrs_commute_other_means', 'wrkrs_commute_other_means_below_100_poverty', 'pct_wrkrs_commute_other_means_below_100_poverty', 'wrkrs_commute_other_means_100_to_150_poverty', 'wrkrs_commute_other_means_over_150_poverty', 'ttl_wrkr_cmute_under_10_min', 'ttl_wrkr_cmute_10_to_14_min', 'ttl_wrkr_cmute_15_to_14_min', 'ttl_wrkr_cmute_20_to_24_min', 'ttl_wrkr_cmute_25_to_29_min', 'ttl_wrkr_cmute_30_to_34_min', 'ttl_wrkr_cmute_35_to_44_min', 'ttl_wrkr_cmute_45_to_59_min', 'ttl_wrkr_cmute_over_60', 'pct_wrkr_cmute_01_to_14_min', 'pct_wrkr_cmute_15_to_29_min', 'pct_wrkr_cmute_30_to_44_min', 'pct_wrkr_cmute_44_to_59_min', 'pct_wrkr_cmute_over_60_min', 'ttl_car_wrkr_cmute', 'ttl_car_wrkr_cmute_under_10_min', 'ttl_car_wrkr_cmute_10_to_14_min', 'ttl_car_wrkr_cmute_15_to_14_min', 'ttl_car_wrkr_cmute_20_to_24_min', 'ttl_car_wrkr_cmute_25_to_29_min', 'ttl_car_wrkr_cmute_30_to_34_min', 'ttl_car_wrkr_cmute_35_to_44_min', 'ttl_car_wrkr_cmute_45_to_59_min', 'ttl_car_wrkr_cmute_over_60_min', 'pct_car_wrkr_cmute', 'pct_car_wrkr_cmute_01_to_14_min', 'pct_car_wrkr_cmute_15_to_29_min', 'pct_car_wrkr_cmute_30_to_44_min', 'pct_car_wrkr_cmute_44_to_59_min', 'pct_car_wrkr_cmute_over_60_min', 'log_pct_car_wrkr_cmute', 'log_pct_car_wrkr_cmute_01_to_14_min', 'log_pct_car_wrkr_cmute_15_to_29_min', 'log_pct_car_wrkr_cmute_30_to_44_min', 'log_pct_car_wrkr_cmute_44_to_59_min', 'log_pct_car_wrkr_cmute_over_60_min', 'zero_check', 'ttl_all_public_tspt_wrkr_cmute', 'ttl_all_public_tspt_wrkr_cmute_under_10_min', 'ttl_all_public_tspt_wrkr_cmute_10_to_14_min', 'ttl_all_public_tspt_wrkr_cmute_15_to_14_min', 'ttl_all_public_tspt_wrkr_cmute_20_to_24_min', 'ttl_all_public_tspt_wrkr_cmute_25_to_29_min', 'ttl_all_public_tspt_wrkr_cmute_30_to_34_min', 'ttl_all_public_tspt_wrkr_cmute_35_to_44_min', 'ttl_all_public_tspt_wrkr_cmute_45_to_59_min', 'ttl_all_public_tspt_wrkr_cmute_over_60_min', 'pct_all_public_tspt_wrkr_cmute', 'pct_all_public_tspt_wrkr_cmute_01_to_14_min', 'pct_all_public_tspt_wrkr_cmute_15_to_29_min', 'pct_all_public_tspt_wrkr_cmute_30_to_44_min', 'pct_all_public_tspt_wrkr_cmute_44_to_59_min', 'pct_all_public_tspt_wrkr_cmute_over_60_min', 'ttl_bus_wrkr_cmute', 'ttl_bus_wrkr_cmute_under_10_min', 'ttl_bus_wrkr_cmute_10_to_14_min', 'ttl_bus_wrkr_cmute_15_to_14_min', 'ttl_bus_wrkr_cmute_20_to_24_min', 'ttl_bus_wrkr_cmute_25_to_29_min', 'ttl_bus_wrkr_cmute_30_to_34_min', 'ttl_bus_wrkr_cmute_35_to_44_min', 'ttl_bus_wrkr_cmute_45_to_59_min', 'ttl_bus_wrkr_cmute_over_60_min', 'pct_bus_wrkr_cmute', 'pct_bus_wrkr_cmute_01_to_14_min', 'pct_bus_wrkr_cmute_15_to_29_min', 'pct_bus_wrkr_cmute_30_to_44_min', 'pct_bus_wrkr_cmute_44_to_59_min', 'pct_bus_wrkr_cmute_over_60_min', 'ttl_local_rails_wrkr_cmute', 'ttl_local_rails_wrkr_cmute_under_10_min', 'ttl_local_rails_wrkr_cmute_10_to_14_min', 'ttl_local_rails_wrkr_cmute_15_to_14_min', 'ttl_local_rails_wrkr_cmute_20_to_24_min', 'ttl_local_rails_wrkr_cmute_25_to_29_min', 'ttl_local_rails_wrkr_cmute_30_to_34_min', 'ttl_local_rails_wrkr_cmute_35_to_44_min', 'ttl_local_rails_wrkr_cmute_45_to_59_min', 'ttl_local_rails_wrkr_cmute_over_60_min', 'pct_local_rails_wrkr_cmute', 'pct_local_rails_wrkr_cmute_01_to_14_min', 'pct_local_rails_wrkr_cmute_15_to_29_min', 'pct_local_rails_wrkr_cmute_30_to_44_min', 'pct_local_rails_wrkr_cmute_44_to_59_min', 'pct_local_rails_wrkr_cmute_over_60_min', 'ttl_long_distance_public_transport_wrkr_cmute', 'ttl_long_distance_public_transport_wrkr_cmute_under_10_min', 'ttl_long_distance_public_transport_wrkr_cmute_10_to_14_min', 'ttl_long_distance_public_transport_wrkr_cmute_15_to_14_min', 'ttl_long_distance_public_transport_wrkr_cmute_20_to_24_min', 'ttl_long_distance_public_transport_wrkr_cmute_25_to_29_min', 'ttl_long_distance_public_transport_wrkr_cmute_30_to_34_min', 'ttl_long_distance_public_transport_wrkr_cmute_35_to_44_min', 'ttl_long_distance_public_transport_wrkr_cmute_45_to_59_min', 'ttl_long_distance_public_transport_wrkr_cmute_over_60_min', 'pct_long_distance_public_transport_wrkr_cmute', 'pct_long_distance_public_transport_wrkr_cmute_01_to_14_min', 'pct_long_distance_public_transport_wrkr_cmute_15_to_29_min', 'pct_long_distance_public_transport_wrkr_cmute_30_to_44_min', 'pct_long_distance_public_transport_wrkr_cmute_44_to_59_min', 'pct_long_distance_public_transport_wrkr_cmute_over_60_min', 'ttl_walked_wrkr_cmute', 'ttl_walked_wrkr_cmute_under_10_min', 'ttl_walked_wrkr_cmute_10_to_14_min', 'ttl_walked_wrkr_cmute_15_to_14_min', 'ttl_walked_wrkr_cmute_20_to_24_min', 'ttl_walked_wrkr_cmute_25_to_29_min', 'ttl_walked_wrkr_cmute_30_to_34_min', 'ttl_walked_wrkr_cmute_35_to_44_min', 'ttl_walked_wrkr_cmute_45_to_59_min', 'ttl_walked_wrkr_cmute_over_60_min', 'pct_walked_wrkr_cmute', 'pct_walked_wrkr_cmute_01_to_14_min', 'pct_walked_wrkr_cmute_15_to_29_min', 'pct_walked_wrkr_cmute_30_to_44_min', 'pct_walked_wrkr_cmute_44_to_59_min', 'pct_walked_wrkr_cmute_over_60_min', 'ttl_misc_trspt_method_wrkr_cmute', 'ttl_misc_trspt_method_wrkr_cmute_under_10_min', 'ttl_misc_trspt_method_wrkr_cmute_10_to_14_min', 'ttl_misc_trspt_method_wrkr_cmute_15_to_14_min', 'ttl_misc_trspt_method_wrkr_cmute_20_to_24_min', 'ttl_misc_trspt_method_wrkr_cmute_25_to_29_min', 'ttl_misc_trspt_method_wrkr_cmute_30_to_34_min', 'ttl_misc_trspt_method_wrkr_cmute_35_to_44_min', 'ttl_misc_trspt_method_wrkr_cmute_45_to_59_min', 'ttl_misc_trspt_method_wrkr_cmute_over_60_min', 'pct_misc_trspt_method_wrkr_cmute', 'pct_misc_trspt_method_wrkr_cmute_01_to_14_min', 'pct_misc_trspt_method_wrkr_cmute_15_to_29_min', 'pct_misc_trspt_method_wrkr_cmute_30_to_44_min', 'pct_misc_trspt_method_wrkr_cmute_44_to_59_min', 'pct_misc_trspt_method_wrkr_cmute_over_60_min', 'ttl_households', 'population_in_labor_force', 'population_employed', 'population_unemployed', 'pct_unemployed', 'worker_density', 'vehicles_density', 'vehicles_per_worker', 'log_vehicles_per_worker', 'vehicles_per_worker_x_landarea', 'vehicles_per_worker_per_landarea', 'vehicles_x_worker_per_landarea', 'vehicle_density_x_vehicles_per_worker', 'average_commute_time_per_worker_drive_alone', 'average_commute_time_per_worker_carpool', 'average_commute_time_per_worker_public_transit', 'average_commute_time_per_worker_other_means', 'households_with_0_vehicle', 'households_with_1_vehicle', 'households_with_2_vehicle', 'households_with_3_vehicle', 'households_with_4_vehicle', 'households_with_5_or_more_vehicle', 'Unnamed: 0_y', 'cbp_total_employees', 'cbp_total_establishments']\n"
     ]
    }
   ],
   "source": [
    "df = pd.read_csv('../data/2019_zip_data/prepped_zip_data_2019.csv', na_values=\".\")\n",
    "print(df.columns.tolist())"
   ]
  },
  {
   "attachments": {},
   "cell_type": "markdown",
   "metadata": {},
   "source": [
    "# Data Cleanup involves combining data from two different years"
   ]
  },
  {
   "cell_type": "code",
   "execution_count": 5,
   "metadata": {},
   "outputs": [],
   "source": [
    "# ##### Data Cleanup\n",
    "\n",
    "# df = df.dropna(subset=['vehicles_per_worker',\n",
    "#                                  'total_workers',\n",
    "#                                  'land_area',\n",
    "#                                  'pct_unemployed',\n",
    "#                                  'average_commute_time_per_worker_drive_alone',\n",
    "#                                  'pct_car_wrkr_cmute_01_to_14_min',\n",
    "#                                  'pct_car_wrkr_cmute_15_to_29_min',\n",
    "#                                  'pct_car_wrkr_cmute_30_to_44_min',\n",
    "#                                  'pct_car_wrkr_cmute_44_to_59_min',\n",
    "#                                  'pct_car_wrkr_cmute_over_60_min',\n",
    "#                                  'total_population'])\n",
    "\n",
    "# df['total_workers'] = df['total_workers']\n",
    "# df['land_area'] = df['land_area']\n",
    "# df['vehicles_per_worker'] = df['vehicles_per_worker']\n",
    "# df['average_commute_time_per_worker_drive_alone'] = df['average_commute_time_per_worker_drive_alone']\n",
    "# df['pct_car_wrkr_cmute_01_to_14_min'] = df['pct_car_wrkr_cmute_01_to_14_min']\n",
    "# df['pct_car_wrkr_cmute_15_to_29_min'] = df['pct_car_wrkr_cmute_15_to_29_min']\n",
    "# df['pct_car_wrkr_cmute_44_to_59_min'] = df['pct_car_wrkr_cmute_44_to_59_min']\n",
    "# df['pct_car_wrkr_cmute_30_to_44_min'] = df['pct_car_wrkr_cmute_30_to_44_min']\n",
    "# df['pct_car_wrkr_cmute_over_60_min'] = df['pct_car_wrkr_cmute_over_60_min']\n",
    "# df['pct_unemployed'] = df['pct_unemployed']\n",
    "# df['total_population'] = df['total_population']\n",
    "# df['year'] = 2019"
   ]
  },
  {
   "cell_type": "markdown",
   "metadata": {},
   "source": [
    "# OLS Regression - Multivariate"
   ]
  },
  {
   "cell_type": "code",
   "execution_count": 6,
   "metadata": {},
   "outputs": [
    {
     "name": "stderr",
     "output_type": "stream",
     "text": [
      "C:\\Users\\cjong\\AppData\\Local\\Temp\\ipykernel_2680\\3390946073.py:2: UserWarning: Pandas doesn't allow columns to be created via a new attribute name - see https://pandas.pydata.org/pandas-docs/stable/indexing.html#attribute-access\n",
      "  df.pct_walking_and_public_transit = df.pct_all_public_tspt_wrkr_cmute + df.pct_walked_wrkr_cmute\n"
     ]
    },
    {
     "data": {
      "text/plain": [
       "0        0.059646\n",
       "1        0.050356\n",
       "2        0.037808\n",
       "3        0.116450\n",
       "4        0.012399\n",
       "           ...   \n",
       "33115    1.000000\n",
       "33116    0.241379\n",
       "33117    0.144788\n",
       "33118         NaN\n",
       "33119    0.123043\n",
       "Length: 33120, dtype: float64"
      ]
     },
     "execution_count": 6,
     "metadata": {},
     "output_type": "execute_result"
    }
   ],
   "source": [
    "df = df\n",
    "df.pct_walking_and_public_transit = df.pct_all_public_tspt_wrkr_cmute + df.pct_walked_wrkr_cmute\n",
    "df.pct_walking_and_public_transit\n"
   ]
  },
  {
   "cell_type": "code",
   "execution_count": 7,
   "metadata": {},
   "outputs": [
    {
     "data": {
      "text/plain": [
       "0        0.059646\n",
       "1        0.050356\n",
       "2        0.037808\n",
       "3        0.116450\n",
       "4        0.012399\n",
       "           ...   \n",
       "33115    1.000000\n",
       "33116    0.241379\n",
       "33117    0.144788\n",
       "33118         NaN\n",
       "33119    0.123043\n",
       "Name: pct_walking_and_public_transit, Length: 33120, dtype: float64"
      ]
     },
     "execution_count": 7,
     "metadata": {},
     "output_type": "execute_result"
    }
   ],
   "source": [
    "df = df\n",
    "df['pct_walking_and_public_transit'] = df['pct_all_public_tspt_wrkr_cmute'] + df['pct_walked_wrkr_cmute']\n",
    "df['pct_walking_and_public_transit']\n"
   ]
  },
  {
   "attachments": {},
   "cell_type": "markdown",
   "metadata": {},
   "source": [
    "### Thought process\n",
    "If there are significances found between the percentage of people that commute to work by walking & public transit and the combination of cars per worker, \n",
    "\n",
    "Based on the research paper \n",
    "https://www.sciencedirect.com/science/article/pii/S2214367X22000333\n",
    "\"The results reveal that the choice of public transport as a daily commute mode is significantly affected by car ownership, distance to work, parking availability, and ticket prices\""
   ]
  },
  {
   "cell_type": "code",
   "execution_count": null,
   "metadata": {},
   "outputs": [],
   "source": [
    "# # road length and intersections data is taken out as it is not included in ACS\n",
    "# # there is also no guarentee of the quality of data\n",
    "\n",
    "# lm_ols = smf.ols(formula = 'pct_public_transit ~ \\\n",
    "#                                 vehicles_per_worker + \\\n",
    "#                                 roads_length + \\\n",
    "#                                 intersections + \\\n",
    "#                                 total_population + \\\n",
    "#                                 average_commute_time_per_worker_drive_alone + \\\n",
    "#                                 pct_unemployed + \\\n",
    "#                                 land_area + \\\n",
    "#                                 cbp_total_employees + \\\n",
    "#                                 cbp_total_establishments',\n",
    "#                                 data = df).fit()\n",
    "# print (lm_ols.summary())"
   ]
  },
  {
   "cell_type": "code",
   "execution_count": 12,
   "metadata": {},
   "outputs": [
    {
     "name": "stdout",
     "output_type": "stream",
     "text": [
      "                                  OLS Regression Results                                  \n",
      "==========================================================================================\n",
      "Dep. Variable:     pct_walking_and_public_transit   R-squared:                       0.370\n",
      "Model:                                        OLS   Adj. R-squared:                  0.370\n",
      "Method:                             Least Squares   F-statistic:                     2834.\n",
      "Date:                            Sun, 15 Jan 2023   Prob (F-statistic):               0.00\n",
      "Time:                                    15:40:16   Log-Likelihood:                 33167.\n",
      "No. Observations:                           29002   AIC:                        -6.632e+04\n",
      "Df Residuals:                               28995   BIC:                        -6.626e+04\n",
      "Df Model:                                       6                                         \n",
      "Covariance Type:                        nonrobust                                         \n",
      "============================================================================================\n",
      "                               coef    std err          t      P>|t|      [0.025      0.975]\n",
      "--------------------------------------------------------------------------------------------\n",
      "Intercept                    0.0394      0.001     47.969      0.000       0.038       0.041\n",
      "total_population          1.114e-05   1.11e-07    100.500      0.000    1.09e-05    1.14e-05\n",
      "aggregate_num_vehicles   -3.102e-05   2.74e-07   -113.382      0.000   -3.16e-05   -3.05e-05\n",
      "pct_unemployed               0.0002      0.000      1.675      0.094   -3.14e-05       0.000\n",
      "land_area                 7.791e-12   7.23e-13     10.775      0.000    6.37e-12    9.21e-12\n",
      "cbp_total_employees       2.506e-06   1.21e-07     20.747      0.000    2.27e-06    2.74e-06\n",
      "cbp_total_establishments  2.837e-05   3.02e-06      9.396      0.000    2.24e-05    3.43e-05\n",
      "==============================================================================\n",
      "Omnibus:                    23240.608   Durbin-Watson:                   1.399\n",
      "Prob(Omnibus):                  0.000   Jarque-Bera (JB):           748902.527\n",
      "Skew:                           3.659   Prob(JB):                         0.00\n",
      "Kurtosis:                      26.795   Cond. No.                     1.22e+09\n",
      "==============================================================================\n",
      "\n",
      "Notes:\n",
      "[1] Standard Errors assume that the covariance matrix of the errors is correctly specified.\n",
      "[2] The condition number is large, 1.22e+09. This might indicate that there are\n",
      "strong multicollinearity or other numerical problems.\n"
     ]
    }
   ],
   "source": [
    "# ols regression logic the following\n",
    "# walking and public total pct is affected by the following\n",
    "# average vehicles per worker\n",
    "# \n",
    "lm_ols = smf.ols(formula = 'pct_walking_and_public_transit ~ \\\n",
    "                                total_population + \\\n",
    "                                aggregate_num_vehicles + \\\n",
    "                                pct_unemployed + \\\n",
    "                                land_area + \\\n",
    "                                cbp_total_employees + \\\n",
    "                                cbp_total_establishments',\n",
    "                                data = df).fit()\n",
    "print (lm_ols.summary())"
   ]
  },
  {
   "cell_type": "code",
   "execution_count": 13,
   "metadata": {},
   "outputs": [
    {
     "ename": "PatsyError",
     "evalue": "Error evaluating factor: NameError: name 'roads_length' is not defined\n    pct_walking_and_public_transit ~                                 vehicles_per_worker +                                 roads_length +                                 intersections +                                 total_population +                                 average_commute_time_per_worker_drive_alone +                                 pct_unemployed +                                 land_area +                                 cbp_total_employees +                                 cbp_total_establishments\n                                                                                                                           ^^^^^^^^^^^^",
     "output_type": "error",
     "traceback": [
      "\u001b[1;31m---------------------------------------------------------------------------\u001b[0m",
      "\u001b[1;31mNameError\u001b[0m                                 Traceback (most recent call last)",
      "\u001b[1;32mc:\\Users\\cjong\\anaconda3\\lib\\site-packages\\patsy\\compat.py\u001b[0m in \u001b[0;36mcall_and_wrap_exc\u001b[1;34m(msg, origin, f, *args, **kwargs)\u001b[0m\n\u001b[0;32m     35\u001b[0m     \u001b[1;32mtry\u001b[0m\u001b[1;33m:\u001b[0m\u001b[1;33m\u001b[0m\u001b[1;33m\u001b[0m\u001b[0m\n\u001b[1;32m---> 36\u001b[1;33m         \u001b[1;32mreturn\u001b[0m \u001b[0mf\u001b[0m\u001b[1;33m(\u001b[0m\u001b[1;33m*\u001b[0m\u001b[0margs\u001b[0m\u001b[1;33m,\u001b[0m \u001b[1;33m**\u001b[0m\u001b[0mkwargs\u001b[0m\u001b[1;33m)\u001b[0m\u001b[1;33m\u001b[0m\u001b[1;33m\u001b[0m\u001b[0m\n\u001b[0m\u001b[0;32m     37\u001b[0m     \u001b[1;32mexcept\u001b[0m \u001b[0mException\u001b[0m \u001b[1;32mas\u001b[0m \u001b[0me\u001b[0m\u001b[1;33m:\u001b[0m\u001b[1;33m\u001b[0m\u001b[1;33m\u001b[0m\u001b[0m\n",
      "\u001b[1;32mc:\\Users\\cjong\\anaconda3\\lib\\site-packages\\patsy\\eval.py\u001b[0m in \u001b[0;36meval\u001b[1;34m(self, expr, source_name, inner_namespace)\u001b[0m\n\u001b[0;32m    164\u001b[0m         \u001b[0mcode\u001b[0m \u001b[1;33m=\u001b[0m \u001b[0mcompile\u001b[0m\u001b[1;33m(\u001b[0m\u001b[0mexpr\u001b[0m\u001b[1;33m,\u001b[0m \u001b[0msource_name\u001b[0m\u001b[1;33m,\u001b[0m \u001b[1;34m\"eval\"\u001b[0m\u001b[1;33m,\u001b[0m \u001b[0mself\u001b[0m\u001b[1;33m.\u001b[0m\u001b[0mflags\u001b[0m\u001b[1;33m,\u001b[0m \u001b[1;32mFalse\u001b[0m\u001b[1;33m)\u001b[0m\u001b[1;33m\u001b[0m\u001b[1;33m\u001b[0m\u001b[0m\n\u001b[1;32m--> 165\u001b[1;33m         return eval(code, {}, VarLookupDict([inner_namespace]\n\u001b[0m\u001b[0;32m    166\u001b[0m                                             + self._namespaces))\n",
      "\u001b[1;32m<string>\u001b[0m in \u001b[0;36m<module>\u001b[1;34m\u001b[0m\n",
      "\u001b[1;31mNameError\u001b[0m: name 'roads_length' is not defined",
      "\nThe above exception was the direct cause of the following exception:\n",
      "\u001b[1;31mPatsyError\u001b[0m                                Traceback (most recent call last)",
      "\u001b[1;32m~\\AppData\\Local\\Temp\\ipykernel_2680\\3437828605.py\u001b[0m in \u001b[0;36m<module>\u001b[1;34m\u001b[0m\n\u001b[0;32m      3\u001b[0m \u001b[1;31m# average vehicles per worker\u001b[0m\u001b[1;33m\u001b[0m\u001b[1;33m\u001b[0m\u001b[0m\n\u001b[0;32m      4\u001b[0m \u001b[1;31m#\u001b[0m\u001b[1;33m\u001b[0m\u001b[1;33m\u001b[0m\u001b[0m\n\u001b[1;32m----> 5\u001b[1;33m lm_ols = smf.ols(formula = 'pct_walking_and_public_transit ~ \\\n\u001b[0m\u001b[0;32m      6\u001b[0m                                 \u001b[0mvehicles_per_worker\u001b[0m \u001b[1;33m+\u001b[0m\u001b[0;31m \u001b[0m\u001b[0;31m\\\u001b[0m\u001b[1;33m\u001b[0m\u001b[1;33m\u001b[0m\u001b[0m\n\u001b[0;32m      7\u001b[0m                                 \u001b[0mroads_length\u001b[0m \u001b[1;33m+\u001b[0m\u001b[0;31m \u001b[0m\u001b[0;31m\\\u001b[0m\u001b[1;33m\u001b[0m\u001b[1;33m\u001b[0m\u001b[0m\n",
      "\u001b[1;32mc:\\Users\\cjong\\anaconda3\\lib\\site-packages\\statsmodels\\base\\model.py\u001b[0m in \u001b[0;36mfrom_formula\u001b[1;34m(cls, formula, data, subset, drop_cols, *args, **kwargs)\u001b[0m\n\u001b[0;32m    198\u001b[0m             \u001b[0mmissing\u001b[0m \u001b[1;33m=\u001b[0m \u001b[1;34m'raise'\u001b[0m\u001b[1;33m\u001b[0m\u001b[1;33m\u001b[0m\u001b[0m\n\u001b[0;32m    199\u001b[0m \u001b[1;33m\u001b[0m\u001b[0m\n\u001b[1;32m--> 200\u001b[1;33m         tmp = handle_formula_data(data, None, formula, depth=eval_env,\n\u001b[0m\u001b[0;32m    201\u001b[0m                                   missing=missing)\n\u001b[0;32m    202\u001b[0m         \u001b[1;33m(\u001b[0m\u001b[1;33m(\u001b[0m\u001b[0mendog\u001b[0m\u001b[1;33m,\u001b[0m \u001b[0mexog\u001b[0m\u001b[1;33m)\u001b[0m\u001b[1;33m,\u001b[0m \u001b[0mmissing_idx\u001b[0m\u001b[1;33m,\u001b[0m \u001b[0mdesign_info\u001b[0m\u001b[1;33m)\u001b[0m \u001b[1;33m=\u001b[0m \u001b[0mtmp\u001b[0m\u001b[1;33m\u001b[0m\u001b[1;33m\u001b[0m\u001b[0m\n",
      "\u001b[1;32mc:\\Users\\cjong\\anaconda3\\lib\\site-packages\\statsmodels\\formula\\formulatools.py\u001b[0m in \u001b[0;36mhandle_formula_data\u001b[1;34m(Y, X, formula, depth, missing)\u001b[0m\n\u001b[0;32m     61\u001b[0m     \u001b[1;32melse\u001b[0m\u001b[1;33m:\u001b[0m\u001b[1;33m\u001b[0m\u001b[1;33m\u001b[0m\u001b[0m\n\u001b[0;32m     62\u001b[0m         \u001b[1;32mif\u001b[0m \u001b[0mdata_util\u001b[0m\u001b[1;33m.\u001b[0m\u001b[0m_is_using_pandas\u001b[0m\u001b[1;33m(\u001b[0m\u001b[0mY\u001b[0m\u001b[1;33m,\u001b[0m \u001b[1;32mNone\u001b[0m\u001b[1;33m)\u001b[0m\u001b[1;33m:\u001b[0m\u001b[1;33m\u001b[0m\u001b[1;33m\u001b[0m\u001b[0m\n\u001b[1;32m---> 63\u001b[1;33m             result = dmatrices(formula, Y, depth, return_type='dataframe',\n\u001b[0m\u001b[0;32m     64\u001b[0m                                NA_action=na_action)\n\u001b[0;32m     65\u001b[0m         \u001b[1;32melse\u001b[0m\u001b[1;33m:\u001b[0m\u001b[1;33m\u001b[0m\u001b[1;33m\u001b[0m\u001b[0m\n",
      "\u001b[1;32mc:\\Users\\cjong\\anaconda3\\lib\\site-packages\\patsy\\highlevel.py\u001b[0m in \u001b[0;36mdmatrices\u001b[1;34m(formula_like, data, eval_env, NA_action, return_type)\u001b[0m\n\u001b[0;32m    307\u001b[0m     \"\"\"\n\u001b[0;32m    308\u001b[0m     \u001b[0meval_env\u001b[0m \u001b[1;33m=\u001b[0m \u001b[0mEvalEnvironment\u001b[0m\u001b[1;33m.\u001b[0m\u001b[0mcapture\u001b[0m\u001b[1;33m(\u001b[0m\u001b[0meval_env\u001b[0m\u001b[1;33m,\u001b[0m \u001b[0mreference\u001b[0m\u001b[1;33m=\u001b[0m\u001b[1;36m1\u001b[0m\u001b[1;33m)\u001b[0m\u001b[1;33m\u001b[0m\u001b[1;33m\u001b[0m\u001b[0m\n\u001b[1;32m--> 309\u001b[1;33m     (lhs, rhs) = _do_highlevel_design(formula_like, data, eval_env,\n\u001b[0m\u001b[0;32m    310\u001b[0m                                       NA_action, return_type)\n\u001b[0;32m    311\u001b[0m     \u001b[1;32mif\u001b[0m \u001b[0mlhs\u001b[0m\u001b[1;33m.\u001b[0m\u001b[0mshape\u001b[0m\u001b[1;33m[\u001b[0m\u001b[1;36m1\u001b[0m\u001b[1;33m]\u001b[0m \u001b[1;33m==\u001b[0m \u001b[1;36m0\u001b[0m\u001b[1;33m:\u001b[0m\u001b[1;33m\u001b[0m\u001b[1;33m\u001b[0m\u001b[0m\n",
      "\u001b[1;32mc:\\Users\\cjong\\anaconda3\\lib\\site-packages\\patsy\\highlevel.py\u001b[0m in \u001b[0;36m_do_highlevel_design\u001b[1;34m(formula_like, data, eval_env, NA_action, return_type)\u001b[0m\n\u001b[0;32m    162\u001b[0m     \u001b[1;32mdef\u001b[0m \u001b[0mdata_iter_maker\u001b[0m\u001b[1;33m(\u001b[0m\u001b[1;33m)\u001b[0m\u001b[1;33m:\u001b[0m\u001b[1;33m\u001b[0m\u001b[1;33m\u001b[0m\u001b[0m\n\u001b[0;32m    163\u001b[0m         \u001b[1;32mreturn\u001b[0m \u001b[0miter\u001b[0m\u001b[1;33m(\u001b[0m\u001b[1;33m[\u001b[0m\u001b[0mdata\u001b[0m\u001b[1;33m]\u001b[0m\u001b[1;33m)\u001b[0m\u001b[1;33m\u001b[0m\u001b[1;33m\u001b[0m\u001b[0m\n\u001b[1;32m--> 164\u001b[1;33m     design_infos = _try_incr_builders(formula_like, data_iter_maker, eval_env,\n\u001b[0m\u001b[0;32m    165\u001b[0m                                       NA_action)\n\u001b[0;32m    166\u001b[0m     \u001b[1;32mif\u001b[0m \u001b[0mdesign_infos\u001b[0m \u001b[1;32mis\u001b[0m \u001b[1;32mnot\u001b[0m \u001b[1;32mNone\u001b[0m\u001b[1;33m:\u001b[0m\u001b[1;33m\u001b[0m\u001b[1;33m\u001b[0m\u001b[0m\n",
      "\u001b[1;32mc:\\Users\\cjong\\anaconda3\\lib\\site-packages\\patsy\\highlevel.py\u001b[0m in \u001b[0;36m_try_incr_builders\u001b[1;34m(formula_like, data_iter_maker, eval_env, NA_action)\u001b[0m\n\u001b[0;32m     64\u001b[0m     \u001b[1;32mif\u001b[0m \u001b[0misinstance\u001b[0m\u001b[1;33m(\u001b[0m\u001b[0mformula_like\u001b[0m\u001b[1;33m,\u001b[0m \u001b[0mModelDesc\u001b[0m\u001b[1;33m)\u001b[0m\u001b[1;33m:\u001b[0m\u001b[1;33m\u001b[0m\u001b[1;33m\u001b[0m\u001b[0m\n\u001b[0;32m     65\u001b[0m         \u001b[1;32massert\u001b[0m \u001b[0misinstance\u001b[0m\u001b[1;33m(\u001b[0m\u001b[0meval_env\u001b[0m\u001b[1;33m,\u001b[0m \u001b[0mEvalEnvironment\u001b[0m\u001b[1;33m)\u001b[0m\u001b[1;33m\u001b[0m\u001b[1;33m\u001b[0m\u001b[0m\n\u001b[1;32m---> 66\u001b[1;33m         return design_matrix_builders([formula_like.lhs_termlist,\n\u001b[0m\u001b[0;32m     67\u001b[0m                                        formula_like.rhs_termlist],\n\u001b[0;32m     68\u001b[0m                                       \u001b[0mdata_iter_maker\u001b[0m\u001b[1;33m,\u001b[0m\u001b[1;33m\u001b[0m\u001b[1;33m\u001b[0m\u001b[0m\n",
      "\u001b[1;32mc:\\Users\\cjong\\anaconda3\\lib\\site-packages\\patsy\\build.py\u001b[0m in \u001b[0;36mdesign_matrix_builders\u001b[1;34m(termlists, data_iter_maker, eval_env, NA_action)\u001b[0m\n\u001b[0;32m    691\u001b[0m     \u001b[1;31m# on some data to find out what type of data they return.\u001b[0m\u001b[1;33m\u001b[0m\u001b[1;33m\u001b[0m\u001b[0m\n\u001b[0;32m    692\u001b[0m     (num_column_counts,\n\u001b[1;32m--> 693\u001b[1;33m      \u001b[0mcat_levels_contrasts\u001b[0m\u001b[1;33m)\u001b[0m \u001b[1;33m=\u001b[0m \u001b[0m_examine_factor_types\u001b[0m\u001b[1;33m(\u001b[0m\u001b[0mall_factors\u001b[0m\u001b[1;33m,\u001b[0m\u001b[1;33m\u001b[0m\u001b[1;33m\u001b[0m\u001b[0m\n\u001b[0m\u001b[0;32m    694\u001b[0m                                                    \u001b[0mfactor_states\u001b[0m\u001b[1;33m,\u001b[0m\u001b[1;33m\u001b[0m\u001b[1;33m\u001b[0m\u001b[0m\n\u001b[0;32m    695\u001b[0m                                                    \u001b[0mdata_iter_maker\u001b[0m\u001b[1;33m,\u001b[0m\u001b[1;33m\u001b[0m\u001b[1;33m\u001b[0m\u001b[0m\n",
      "\u001b[1;32mc:\\Users\\cjong\\anaconda3\\lib\\site-packages\\patsy\\build.py\u001b[0m in \u001b[0;36m_examine_factor_types\u001b[1;34m(factors, factor_states, data_iter_maker, NA_action)\u001b[0m\n\u001b[0;32m    441\u001b[0m     \u001b[1;32mfor\u001b[0m \u001b[0mdata\u001b[0m \u001b[1;32min\u001b[0m \u001b[0mdata_iter_maker\u001b[0m\u001b[1;33m(\u001b[0m\u001b[1;33m)\u001b[0m\u001b[1;33m:\u001b[0m\u001b[1;33m\u001b[0m\u001b[1;33m\u001b[0m\u001b[0m\n\u001b[0;32m    442\u001b[0m         \u001b[1;32mfor\u001b[0m \u001b[0mfactor\u001b[0m \u001b[1;32min\u001b[0m \u001b[0mlist\u001b[0m\u001b[1;33m(\u001b[0m\u001b[0mexamine_needed\u001b[0m\u001b[1;33m)\u001b[0m\u001b[1;33m:\u001b[0m\u001b[1;33m\u001b[0m\u001b[1;33m\u001b[0m\u001b[0m\n\u001b[1;32m--> 443\u001b[1;33m             \u001b[0mvalue\u001b[0m \u001b[1;33m=\u001b[0m \u001b[0mfactor\u001b[0m\u001b[1;33m.\u001b[0m\u001b[0meval\u001b[0m\u001b[1;33m(\u001b[0m\u001b[0mfactor_states\u001b[0m\u001b[1;33m[\u001b[0m\u001b[0mfactor\u001b[0m\u001b[1;33m]\u001b[0m\u001b[1;33m,\u001b[0m \u001b[0mdata\u001b[0m\u001b[1;33m)\u001b[0m\u001b[1;33m\u001b[0m\u001b[1;33m\u001b[0m\u001b[0m\n\u001b[0m\u001b[0;32m    444\u001b[0m             \u001b[1;32mif\u001b[0m \u001b[0mfactor\u001b[0m \u001b[1;32min\u001b[0m \u001b[0mcat_sniffers\u001b[0m \u001b[1;32mor\u001b[0m \u001b[0mguess_categorical\u001b[0m\u001b[1;33m(\u001b[0m\u001b[0mvalue\u001b[0m\u001b[1;33m)\u001b[0m\u001b[1;33m:\u001b[0m\u001b[1;33m\u001b[0m\u001b[1;33m\u001b[0m\u001b[0m\n\u001b[0;32m    445\u001b[0m                 \u001b[1;32mif\u001b[0m \u001b[0mfactor\u001b[0m \u001b[1;32mnot\u001b[0m \u001b[1;32min\u001b[0m \u001b[0mcat_sniffers\u001b[0m\u001b[1;33m:\u001b[0m\u001b[1;33m\u001b[0m\u001b[1;33m\u001b[0m\u001b[0m\n",
      "\u001b[1;32mc:\\Users\\cjong\\anaconda3\\lib\\site-packages\\patsy\\eval.py\u001b[0m in \u001b[0;36meval\u001b[1;34m(self, memorize_state, data)\u001b[0m\n\u001b[0;32m    562\u001b[0m \u001b[1;33m\u001b[0m\u001b[0m\n\u001b[0;32m    563\u001b[0m     \u001b[1;32mdef\u001b[0m \u001b[0meval\u001b[0m\u001b[1;33m(\u001b[0m\u001b[0mself\u001b[0m\u001b[1;33m,\u001b[0m \u001b[0mmemorize_state\u001b[0m\u001b[1;33m,\u001b[0m \u001b[0mdata\u001b[0m\u001b[1;33m)\u001b[0m\u001b[1;33m:\u001b[0m\u001b[1;33m\u001b[0m\u001b[1;33m\u001b[0m\u001b[0m\n\u001b[1;32m--> 564\u001b[1;33m         return self._eval(memorize_state[\"eval_code\"],\n\u001b[0m\u001b[0;32m    565\u001b[0m                           \u001b[0mmemorize_state\u001b[0m\u001b[1;33m,\u001b[0m\u001b[1;33m\u001b[0m\u001b[1;33m\u001b[0m\u001b[0m\n\u001b[0;32m    566\u001b[0m                           data)\n",
      "\u001b[1;32mc:\\Users\\cjong\\anaconda3\\lib\\site-packages\\patsy\\eval.py\u001b[0m in \u001b[0;36m_eval\u001b[1;34m(self, code, memorize_state, data)\u001b[0m\n\u001b[0;32m    545\u001b[0m     \u001b[1;32mdef\u001b[0m \u001b[0m_eval\u001b[0m\u001b[1;33m(\u001b[0m\u001b[0mself\u001b[0m\u001b[1;33m,\u001b[0m \u001b[0mcode\u001b[0m\u001b[1;33m,\u001b[0m \u001b[0mmemorize_state\u001b[0m\u001b[1;33m,\u001b[0m \u001b[0mdata\u001b[0m\u001b[1;33m)\u001b[0m\u001b[1;33m:\u001b[0m\u001b[1;33m\u001b[0m\u001b[1;33m\u001b[0m\u001b[0m\n\u001b[0;32m    546\u001b[0m         \u001b[0minner_namespace\u001b[0m \u001b[1;33m=\u001b[0m \u001b[0mVarLookupDict\u001b[0m\u001b[1;33m(\u001b[0m\u001b[1;33m[\u001b[0m\u001b[0mdata\u001b[0m\u001b[1;33m,\u001b[0m \u001b[0mmemorize_state\u001b[0m\u001b[1;33m[\u001b[0m\u001b[1;34m\"transforms\"\u001b[0m\u001b[1;33m]\u001b[0m\u001b[1;33m]\u001b[0m\u001b[1;33m)\u001b[0m\u001b[1;33m\u001b[0m\u001b[1;33m\u001b[0m\u001b[0m\n\u001b[1;32m--> 547\u001b[1;33m         return call_and_wrap_exc(\"Error evaluating factor\",\n\u001b[0m\u001b[0;32m    548\u001b[0m                                  \u001b[0mself\u001b[0m\u001b[1;33m,\u001b[0m\u001b[1;33m\u001b[0m\u001b[1;33m\u001b[0m\u001b[0m\n\u001b[0;32m    549\u001b[0m                                  \u001b[0mmemorize_state\u001b[0m\u001b[1;33m[\u001b[0m\u001b[1;34m\"eval_env\"\u001b[0m\u001b[1;33m]\u001b[0m\u001b[1;33m.\u001b[0m\u001b[0meval\u001b[0m\u001b[1;33m,\u001b[0m\u001b[1;33m\u001b[0m\u001b[1;33m\u001b[0m\u001b[0m\n",
      "\u001b[1;32mc:\\Users\\cjong\\anaconda3\\lib\\site-packages\\patsy\\compat.py\u001b[0m in \u001b[0;36mcall_and_wrap_exc\u001b[1;34m(msg, origin, f, *args, **kwargs)\u001b[0m\n\u001b[0;32m     41\u001b[0m                                  origin)\n\u001b[0;32m     42\u001b[0m             \u001b[1;31m# Use 'exec' to hide this syntax from the Python 2 parser:\u001b[0m\u001b[1;33m\u001b[0m\u001b[1;33m\u001b[0m\u001b[0m\n\u001b[1;32m---> 43\u001b[1;33m             \u001b[0mexec\u001b[0m\u001b[1;33m(\u001b[0m\u001b[1;34m\"raise new_exc from e\"\u001b[0m\u001b[1;33m)\u001b[0m\u001b[1;33m\u001b[0m\u001b[1;33m\u001b[0m\u001b[0m\n\u001b[0m\u001b[0;32m     44\u001b[0m         \u001b[1;32melse\u001b[0m\u001b[1;33m:\u001b[0m\u001b[1;33m\u001b[0m\u001b[1;33m\u001b[0m\u001b[0m\n\u001b[0;32m     45\u001b[0m             \u001b[1;31m# In python 2, we just let the original exception escape -- better\u001b[0m\u001b[1;33m\u001b[0m\u001b[1;33m\u001b[0m\u001b[0m\n",
      "\u001b[1;32mc:\\Users\\cjong\\anaconda3\\lib\\site-packages\\patsy\\compat.py\u001b[0m in \u001b[0;36m<module>\u001b[1;34m\u001b[0m\n",
      "\u001b[1;31mPatsyError\u001b[0m: Error evaluating factor: NameError: name 'roads_length' is not defined\n    pct_walking_and_public_transit ~                                 vehicles_per_worker +                                 roads_length +                                 intersections +                                 total_population +                                 average_commute_time_per_worker_drive_alone +                                 pct_unemployed +                                 land_area +                                 cbp_total_employees +                                 cbp_total_establishments\n                                                                                                                           ^^^^^^^^^^^^"
     ]
    }
   ],
   "source": []
  },
  {
   "cell_type": "code",
   "execution_count": null,
   "metadata": {},
   "outputs": [
    {
     "name": "stdout",
     "output_type": "stream",
     "text": [
      "                                  OLS Regression Results                                  \n",
      "==========================================================================================\n",
      "Dep. Variable:     pct_walking_and_public_transit   R-squared:                       0.905\n",
      "Model:                                        OLS   Adj. R-squared:                  0.905\n",
      "Method:                             Least Squares   F-statistic:                 6.097e+05\n",
      "Date:                            Wed, 28 Dec 2022   Prob (F-statistic):               0.00\n",
      "Time:                                    23:39:25   Log-Likelihood:             1.2513e+06\n",
      "No. Observations:                          576488   AIC:                        -2.503e+06\n",
      "Df Residuals:                              576478   BIC:                        -2.503e+06\n",
      "Df Model:                                       9                                         \n",
      "Covariance Type:                        nonrobust                                         \n",
      "===============================================================================================================\n",
      "                                                  coef    std err          t      P>|t|      [0.025      0.975]\n",
      "---------------------------------------------------------------------------------------------------------------\n",
      "Intercept                                       0.8155      0.000   1763.617      0.000       0.815       0.816\n",
      "vehicles_per_worker                            -0.8906      0.000  -1990.817      0.000      -0.891      -0.890\n",
      "roads_length                                -1.954e-09   1.87e-11   -104.437      0.000   -1.99e-09   -1.92e-09\n",
      "intersections                               -1.755e-07   5.26e-09    -33.373      0.000   -1.86e-07   -1.65e-07\n",
      "total_population                             1.496e-08   9.59e-11    155.948      0.000    1.48e-08    1.51e-08\n",
      "average_commute_time_per_worker_drive_alone    -0.0006   8.06e-06    -78.604      0.000      -0.001      -0.001\n",
      "pct_unemployed                                  0.0020   2.09e-05     94.843      0.000       0.002       0.002\n",
      "land_area                                   -1.615e-13   6.29e-15    -25.665      0.000   -1.74e-13   -1.49e-13\n",
      "cbp_total_employees                          1.103e-07   9.94e-09     11.093      0.000    9.08e-08     1.3e-07\n",
      "cbp_total_establishments                     -1.67e-06   1.64e-07    -10.154      0.000   -1.99e-06   -1.35e-06\n",
      "==============================================================================\n",
      "Omnibus:                   101853.961   Durbin-Watson:                   0.007\n",
      "Prob(Omnibus):                  0.000   Jarque-Bera (JB):          2435782.129\n",
      "Skew:                          -0.125   Prob(JB):                         0.00\n",
      "Kurtosis:                      13.067   Cond. No.                     1.34e+11\n",
      "==============================================================================\n",
      "\n",
      "Notes:\n",
      "[1] Standard Errors assume that the covariance matrix of the errors is correctly specified.\n",
      "[2] The condition number is large, 1.34e+11. This might indicate that there are\n",
      "strong multicollinearity or other numerical problems.\n"
     ]
    }
   ],
   "source": [
    "# ols regression logic the following\n",
    "# walking and public total pct is affected by the following\n",
    "# average vehicles per worker\n",
    "# \n",
    "lm_ols = smf.ols(formula = 'pct_walking_and_public_transit ~ \\\n",
    "                                vehicles_per_worker + \\\n",
    "                                roads_length + \\\n",
    "                                intersections + \\\n",
    "                                total_population + \\\n",
    "                                average_commute_time_per_worker_drive_alone + \\\n",
    "                                pct_unemployed + \\\n",
    "                                land_area + \\\n",
    "                                cbp_total_employees + \\\n",
    "                                cbp_total_establishments',\n",
    "                                data = df).fit()\n",
    "print (lm_ols.summary())"
   ]
  },
  {
   "cell_type": "code",
   "execution_count": null,
   "metadata": {},
   "outputs": [
    {
     "name": "stdout",
     "output_type": "stream",
     "text": [
      "                                  OLS Regression Results                                  \n",
      "==========================================================================================\n",
      "Dep. Variable:     pct_walking_and_public_transit   R-squared:                       0.905\n",
      "Model:                                        OLS   Adj. R-squared:                  0.905\n",
      "Method:                             Least Squares   F-statistic:                 6.097e+05\n",
      "Date:                            Wed, 28 Dec 2022   Prob (F-statistic):               0.00\n",
      "Time:                                    23:39:26   Log-Likelihood:             1.2513e+06\n",
      "No. Observations:                          576488   AIC:                        -2.503e+06\n",
      "Df Residuals:                              576478   BIC:                        -2.503e+06\n",
      "Df Model:                                       9                                         \n",
      "Covariance Type:                        nonrobust                                         \n",
      "===============================================================================================================\n",
      "                                                  coef    std err          t      P>|t|      [0.025      0.975]\n",
      "---------------------------------------------------------------------------------------------------------------\n",
      "Intercept                                       0.8155      0.000   1763.617      0.000       0.815       0.816\n",
      "vehicles_per_worker                            -0.8906      0.000  -1990.817      0.000      -0.891      -0.890\n",
      "roads_length                                -1.954e-09   1.87e-11   -104.437      0.000   -1.99e-09   -1.92e-09\n",
      "intersections                               -1.755e-07   5.26e-09    -33.373      0.000   -1.86e-07   -1.65e-07\n",
      "total_population                             1.496e-08   9.59e-11    155.948      0.000    1.48e-08    1.51e-08\n",
      "average_commute_time_per_worker_drive_alone    -0.0006   8.06e-06    -78.604      0.000      -0.001      -0.001\n",
      "pct_unemployed                                  0.0020   2.09e-05     94.843      0.000       0.002       0.002\n",
      "land_area                                   -1.615e-13   6.29e-15    -25.665      0.000   -1.74e-13   -1.49e-13\n",
      "cbp_total_employees                          1.103e-07   9.94e-09     11.093      0.000    9.08e-08     1.3e-07\n",
      "cbp_total_establishments                     -1.67e-06   1.64e-07    -10.154      0.000   -1.99e-06   -1.35e-06\n",
      "==============================================================================\n",
      "Omnibus:                   101853.961   Durbin-Watson:                   0.007\n",
      "Prob(Omnibus):                  0.000   Jarque-Bera (JB):          2435782.129\n",
      "Skew:                          -0.125   Prob(JB):                         0.00\n",
      "Kurtosis:                      13.067   Cond. No.                     1.34e+11\n",
      "==============================================================================\n",
      "\n",
      "Notes:\n",
      "[1] Standard Errors assume that the covariance matrix of the errors is correctly specified.\n",
      "[2] The condition number is large, 1.34e+11. This might indicate that there are\n",
      "strong multicollinearity or other numerical problems.\n"
     ]
    }
   ],
   "source": [
    "# ols regression logic the following\n",
    "# walking and public total pct is affected by the following\n",
    "# average vehicles per worker\n",
    "# \n",
    "lm_ols = smf.ols(formula = 'pct_walking_and_public_transit ~ \\\n",
    "                                vehicles_per_worker + \\\n",
    "                                roads_length + \\\n",
    "                                intersections + \\\n",
    "                                total_population + \\\n",
    "                                average_commute_time_per_worker_drive_alone + \\\n",
    "                                pct_unemployed + \\\n",
    "                                land_area + \\\n",
    "                                cbp_total_employees + \\\n",
    "                                cbp_total_establishments',\n",
    "                                data = df).fit()\n",
    "print (lm_ols.summary())"
   ]
  },
  {
   "cell_type": "code",
   "execution_count": null,
   "metadata": {},
   "outputs": [
    {
     "name": "stdout",
     "output_type": "stream",
     "text": [
      "                                  OLS Regression Results                                  \n",
      "==========================================================================================\n",
      "Dep. Variable:     pct_walking_and_public_transit   R-squared:                       0.843\n",
      "Model:                                        OLS   Adj. R-squared:                  0.843\n",
      "Method:                             Least Squares   F-statistic:                 7.221e+05\n",
      "Date:                            Wed, 28 Dec 2022   Prob (F-statistic):               0.00\n",
      "Time:                                    23:39:27   Log-Likelihood:             2.3308e+06\n",
      "No. Observations:                         1076734   AIC:                        -4.662e+06\n",
      "Df Residuals:                             1076725   BIC:                        -4.661e+06\n",
      "Df Model:                                       8                                         \n",
      "Covariance Type:                        nonrobust                                         \n",
      "============================================================================================\n",
      "                               coef    std err          t      P>|t|      [0.025      0.975]\n",
      "--------------------------------------------------------------------------------------------\n",
      "Intercept                    0.7426      0.000   2207.045      0.000       0.742       0.743\n",
      "vehicles_per_worker         -0.8230      0.000  -2108.315      0.000      -0.824      -0.822\n",
      "roads_length             -1.362e-09   1.52e-11    -89.597      0.000   -1.39e-09   -1.33e-09\n",
      "intersections            -2.836e-07   4.72e-09    -60.049      0.000   -2.93e-07   -2.74e-07\n",
      "total_population          1.594e-08   8.62e-11    184.868      0.000    1.58e-08    1.61e-08\n",
      "pct_unemployed               0.0017   1.42e-05    120.877      0.000       0.002       0.002\n",
      "land_area                -1.012e-13   5.67e-15    -17.849      0.000   -1.12e-13   -9.01e-14\n",
      "cbp_total_employees       1.898e-07    9.7e-09     19.571      0.000    1.71e-07    2.09e-07\n",
      "cbp_total_establishments -2.852e-06   1.61e-07    -17.716      0.000   -3.17e-06   -2.54e-06\n",
      "==============================================================================\n",
      "Omnibus:                   292500.064   Durbin-Watson:                   0.008\n",
      "Prob(Omnibus):                  0.000   Jarque-Bera (JB):          6200494.112\n",
      "Skew:                           0.798   Prob(JB):                         0.00\n",
      "Kurtosis:                      14.647   Cond. No.                     1.27e+11\n",
      "==============================================================================\n",
      "\n",
      "Notes:\n",
      "[1] Standard Errors assume that the covariance matrix of the errors is correctly specified.\n",
      "[2] The condition number is large, 1.27e+11. This might indicate that there are\n",
      "strong multicollinearity or other numerical problems.\n"
     ]
    }
   ],
   "source": [
    "lm_ols = smf.ols(formula = 'pct_walking_and_public_transit ~ \\\n",
    "                                vehicles_per_worker + \\\n",
    "                                roads_length + \\\n",
    "                                intersections + \\\n",
    "                                total_population + \\\n",
    "                                pct_unemployed + \\\n",
    "                                land_area + \\\n",
    "                                cbp_total_employees + \\\n",
    "                                cbp_total_establishments \\\n",
    "                                ',\n",
    "                                # average_commute_time_per_worker_drive_alone + \\\n",
    "data = df).fit()\n",
    "print (lm_ols.summary())"
   ]
  },
  {
   "cell_type": "code",
   "execution_count": null,
   "metadata": {},
   "outputs": [
    {
     "name": "stdout",
     "output_type": "stream",
     "text": [
      "                                  OLS Regression Results                                  \n",
      "==========================================================================================\n",
      "Dep. Variable:     pct_walking_and_public_transit   R-squared:                       0.843\n",
      "Model:                                        OLS   Adj. R-squared:                  0.843\n",
      "Method:                             Least Squares   F-statistic:                 9.625e+05\n",
      "Date:                            Wed, 28 Dec 2022   Prob (F-statistic):               0.00\n",
      "Time:                                    23:39:28   Log-Likelihood:             2.3306e+06\n",
      "No. Observations:                         1076736   AIC:                        -4.661e+06\n",
      "Df Residuals:                             1076729   BIC:                        -4.661e+06\n",
      "Df Model:                                       6                                         \n",
      "Covariance Type:                        nonrobust                                         \n",
      "=======================================================================================\n",
      "                          coef    std err          t      P>|t|      [0.025      0.975]\n",
      "---------------------------------------------------------------------------------------\n",
      "Intercept               0.7427      0.000   2207.675      0.000       0.742       0.743\n",
      "vehicles_per_worker    -0.8232      0.000  -2108.896      0.000      -0.824      -0.822\n",
      "roads_length        -1.365e-09   1.52e-11    -89.806      0.000    -1.4e-09   -1.34e-09\n",
      "intersections        -2.82e-07   4.72e-09    -59.701      0.000   -2.91e-07   -2.73e-07\n",
      "total_population     1.593e-08   8.61e-11    185.031      0.000    1.58e-08    1.61e-08\n",
      "pct_unemployed          0.0017   1.42e-05    120.902      0.000       0.002       0.002\n",
      "land_area           -1.018e-13   5.67e-15    -17.962      0.000   -1.13e-13   -9.07e-14\n",
      "==============================================================================\n",
      "Omnibus:                   292298.976   Durbin-Watson:                   0.008\n",
      "Prob(Omnibus):                  0.000   Jarque-Bera (JB):          6196515.600\n",
      "Skew:                           0.797   Prob(JB):                         0.00\n",
      "Kurtosis:                      14.644   Cond. No.                     1.27e+11\n",
      "==============================================================================\n",
      "\n",
      "Notes:\n",
      "[1] Standard Errors assume that the covariance matrix of the errors is correctly specified.\n",
      "[2] The condition number is large, 1.27e+11. This might indicate that there are\n",
      "strong multicollinearity or other numerical problems.\n"
     ]
    }
   ],
   "source": [
    "lm_ols = smf.ols(formula = 'pct_walking_and_public_transit ~ \\\n",
    "                                vehicles_per_worker + \\\n",
    "                                roads_length + \\\n",
    "                                intersections + \\\n",
    "                                total_population + \\\n",
    "                                pct_unemployed + \\\n",
    "                                land_area ',\n",
    "                                # average_commute_time_per_worker_drive_alone + \\\n",
    "data = df).fit()\n",
    "print (lm_ols.summary())"
   ]
  },
  {
   "attachments": {},
   "cell_type": "markdown",
   "metadata": {},
   "source": [
    "# Comparing data for business establishment per county\n",
    "## this is on top of total road density, road intersection density, total population, total vehicles\n",
    "## include total time per commute method driving / carpooling vs walking & everything else"
   ]
  },
  {
   "cell_type": "code",
   "execution_count": null,
   "metadata": {},
   "outputs": [],
   "source": [
    "# lm_ols = smf.ols(formula = 'pct_walking_and_public_transit ~ \\\n",
    "#                                 vehicles_per_worker + \\\n",
    "#                                 roads_length + \\\n",
    "#                                 intersections + \\\n",
    "#                                 total_population + \\\n",
    "#                                 pct_unemployed + \\\n",
    "#                                 land_area ',\n",
    "# data = df).fit()\n",
    "# print (lm_ols.summary())"
   ]
  },
  {
   "cell_type": "code",
   "execution_count": null,
   "metadata": {},
   "outputs": [
    {
     "name": "stdout",
     "output_type": "stream",
     "text": [
      "                                  OLS Regression Results                                  \n",
      "==========================================================================================\n",
      "Dep. Variable:     pct_walking_and_public_transit   R-squared:                       0.848\n",
      "Model:                                        OLS   Adj. R-squared:                  0.848\n",
      "Method:                             Least Squares   F-statistic:                 8.567e+05\n",
      "Date:                            Wed, 28 Dec 2022   Prob (F-statistic):               0.00\n",
      "Time:                                    23:39:29   Log-Likelihood:             2.3478e+06\n",
      "No. Observations:                         1076736   AIC:                        -4.696e+06\n",
      "Df Residuals:                             1076728   BIC:                        -4.695e+06\n",
      "Df Model:                                       7                                         \n",
      "Covariance Type:                        nonrobust                                         \n",
      "=======================================================================================\n",
      "                          coef    std err          t      P>|t|      [0.025      0.975]\n",
      "---------------------------------------------------------------------------------------\n",
      "Intercept               0.7196      0.000   2035.669      0.000       0.719       0.720\n",
      "vehicles_per_worker    -0.7983      0.000  -1963.932      0.000      -0.799      -0.798\n",
      "roads_length        -1.022e-09   1.51e-11    -67.796      0.000   -1.05e-09   -9.92e-10\n",
      "intersections        -4.37e-07   4.72e-09    -92.558      0.000   -4.46e-07   -4.28e-07\n",
      "total_population    -7.115e-08   4.74e-10   -150.166      0.000   -7.21e-08   -7.02e-08\n",
      "pct_unemployed          0.0017    1.4e-05    120.456      0.000       0.002       0.002\n",
      "land_area             3.91e-14   5.63e-15      6.943      0.000    2.81e-14    5.01e-14\n",
      "ttl_households       2.591e-07   1.39e-09    186.810      0.000    2.56e-07    2.62e-07\n",
      "==============================================================================\n",
      "Omnibus:                   313034.581   Durbin-Watson:                   0.008\n",
      "Prob(Omnibus):                  0.000   Jarque-Bera (JB):          6099756.478\n",
      "Skew:                           0.916   Prob(JB):                         0.00\n",
      "Kurtosis:                      14.516   Cond. No.                     1.35e+11\n",
      "==============================================================================\n",
      "\n",
      "Notes:\n",
      "[1] Standard Errors assume that the covariance matrix of the errors is correctly specified.\n",
      "[2] The condition number is large, 1.35e+11. This might indicate that there are\n",
      "strong multicollinearity or other numerical problems.\n"
     ]
    }
   ],
   "source": [
    "lm_ols = smf.ols(formula = 'pct_walking_and_public_transit ~ \\\n",
    "                                vehicles_per_worker + \\\n",
    "                                roads_length + \\\n",
    "                                intersections + \\\n",
    "                                total_population + \\\n",
    "                                pct_unemployed + \\\n",
    "                                land_area + \\\n",
    "                                ttl_households + \\\n",
    "                                land_area',\n",
    "data = df).fit()\n",
    "print (lm_ols.summary())"
   ]
  },
  {
   "cell_type": "code",
   "execution_count": null,
   "metadata": {},
   "outputs": [
    {
     "name": "stdout",
     "output_type": "stream",
     "text": [
      "                                  OLS Regression Results                                  \n",
      "==========================================================================================\n",
      "Dep. Variable:     pct_walking_and_public_transit   R-squared:                       0.848\n",
      "Model:                                        OLS   Adj. R-squared:                  0.848\n",
      "Method:                             Least Squares   F-statistic:                 7.496e+05\n",
      "Date:                            Wed, 28 Dec 2022   Prob (F-statistic):               0.00\n",
      "Time:                                    23:39:30   Log-Likelihood:             2.3478e+06\n",
      "No. Observations:                         1076734   AIC:                        -4.696e+06\n",
      "Df Residuals:                             1076725   BIC:                        -4.695e+06\n",
      "Df Model:                                       8                                         \n",
      "Covariance Type:                        nonrobust                                         \n",
      "============================================================================================\n",
      "                               coef    std err          t      P>|t|      [0.025      0.975]\n",
      "--------------------------------------------------------------------------------------------\n",
      "Intercept                    0.7196      0.000   2035.459      0.000       0.719       0.720\n",
      "vehicles_per_worker         -0.7983      0.000  -1963.788      0.000      -0.799      -0.798\n",
      "roads_length             -1.022e-09   1.51e-11    -67.796      0.000   -1.05e-09   -9.92e-10\n",
      "intersections            -4.371e-07   4.72e-09    -92.565      0.000   -4.46e-07   -4.28e-07\n",
      "total_population         -7.115e-08   4.74e-10   -150.170      0.000   -7.21e-08   -7.02e-08\n",
      "pct_unemployed               0.0017    1.4e-05    120.462      0.000       0.002       0.002\n",
      "land_area                 3.915e-14   5.63e-15      6.952      0.000    2.81e-14    5.02e-14\n",
      "ttl_households            2.591e-07   1.39e-09    186.795      0.000    2.56e-07    2.62e-07\n",
      "cbp_total_establishments  6.455e-08   4.88e-08      1.323      0.186   -3.11e-08     1.6e-07\n",
      "==============================================================================\n",
      "Omnibus:                   313043.088   Durbin-Watson:                   0.008\n",
      "Prob(Omnibus):                  0.000   Jarque-Bera (JB):          6099740.919\n",
      "Skew:                           0.916   Prob(JB):                         0.00\n",
      "Kurtosis:                      14.516   Cond. No.                     1.35e+11\n",
      "==============================================================================\n",
      "\n",
      "Notes:\n",
      "[1] Standard Errors assume that the covariance matrix of the errors is correctly specified.\n",
      "[2] The condition number is large, 1.35e+11. This might indicate that there are\n",
      "strong multicollinearity or other numerical problems.\n"
     ]
    }
   ],
   "source": [
    "lm_ols = smf.ols(formula = 'pct_walking_and_public_transit ~ \\\n",
    "                                vehicles_per_worker + \\\n",
    "                                roads_length + \\\n",
    "                                intersections + \\\n",
    "                                total_population + \\\n",
    "                                pct_unemployed + \\\n",
    "                                land_area + \\\n",
    "                                ttl_households + \\\n",
    "                                land_area + \\\n",
    "                                cbp_total_establishments',\n",
    "data = df).fit()\n",
    "print (lm_ols.summary())"
   ]
  },
  {
   "cell_type": "code",
   "execution_count": null,
   "metadata": {},
   "outputs": [
    {
     "name": "stdout",
     "output_type": "stream",
     "text": [
      "                                  OLS Regression Results                                  \n",
      "==========================================================================================\n",
      "Dep. Variable:     pct_walking_and_public_transit   R-squared:                       0.848\n",
      "Model:                                        OLS   Adj. R-squared:                  0.848\n",
      "Method:                             Least Squares   F-statistic:                 6.664e+05\n",
      "Date:                            Wed, 28 Dec 2022   Prob (F-statistic):               0.00\n",
      "Time:                                    23:39:32   Log-Likelihood:             2.3478e+06\n",
      "No. Observations:                         1076734   AIC:                        -4.696e+06\n",
      "Df Residuals:                             1076724   BIC:                        -4.696e+06\n",
      "Df Model:                                       9                                         \n",
      "Covariance Type:                        nonrobust                                         \n",
      "============================================================================================\n",
      "                               coef    std err          t      P>|t|      [0.025      0.975]\n",
      "--------------------------------------------------------------------------------------------\n",
      "Intercept                    0.7196      0.000   2035.575      0.000       0.719       0.720\n",
      "vehicles_per_worker         -0.7983      0.000  -1963.878      0.000      -0.799      -0.798\n",
      "roads_length             -1.022e-09   1.51e-11    -67.768      0.000   -1.05e-09   -9.92e-10\n",
      "intersections            -4.374e-07   4.72e-09    -92.641      0.000   -4.47e-07   -4.28e-07\n",
      "total_population         -7.089e-08   4.74e-10   -149.434      0.000   -7.18e-08      -7e-08\n",
      "pct_unemployed               0.0017    1.4e-05    120.445      0.000       0.002       0.002\n",
      "land_area                 3.915e-14   5.63e-15      6.952      0.000    2.81e-14    5.02e-14\n",
      "ttl_households            2.584e-07   1.39e-09    186.031      0.000    2.56e-07    2.61e-07\n",
      "cbp_total_establishments -1.495e-06   1.59e-07     -9.424      0.000   -1.81e-06   -1.18e-06\n",
      "cbp_total_employees       9.877e-08   9.56e-09     10.332      0.000       8e-08    1.18e-07\n",
      "==============================================================================\n",
      "Omnibus:                   313143.922   Durbin-Watson:                   0.008\n",
      "Prob(Omnibus):                  0.000   Jarque-Bera (JB):          6102898.805\n",
      "Skew:                           0.916   Prob(JB):                         0.00\n",
      "Kurtosis:                      14.518   Cond. No.                     1.35e+11\n",
      "==============================================================================\n",
      "\n",
      "Notes:\n",
      "[1] Standard Errors assume that the covariance matrix of the errors is correctly specified.\n",
      "[2] The condition number is large, 1.35e+11. This might indicate that there are\n",
      "strong multicollinearity or other numerical problems.\n"
     ]
    }
   ],
   "source": [
    "lm_ols = smf.ols(formula = 'pct_walking_and_public_transit ~ \\\n",
    "                                vehicles_per_worker + \\\n",
    "                                roads_length + \\\n",
    "                                intersections + \\\n",
    "                                total_population + \\\n",
    "                                pct_unemployed + \\\n",
    "                                land_area + \\\n",
    "                                ttl_households + \\\n",
    "                                land_area + \\\n",
    "                                cbp_total_establishments + cbp_total_employees',\n",
    "data = df).fit()\n",
    "print (lm_ols.summary())"
   ]
  },
  {
   "cell_type": "code",
   "execution_count": null,
   "metadata": {},
   "outputs": [
    {
     "name": "stdout",
     "output_type": "stream",
     "text": [
      "                                  OLS Regression Results                                  \n",
      "==========================================================================================\n",
      "Dep. Variable:     pct_walking_and_public_transit   R-squared:                       0.848\n",
      "Model:                                        OLS   Adj. R-squared:                  0.848\n",
      "Method:                             Least Squares   F-statistic:                 3.749e+05\n",
      "Date:                            Wed, 28 Dec 2022   Prob (F-statistic):               0.00\n",
      "Time:                                    23:39:34   Log-Likelihood:             2.3479e+06\n",
      "No. Observations:                         1076734   AIC:                        -4.696e+06\n",
      "Df Residuals:                             1076717   BIC:                        -4.696e+06\n",
      "Df Model:                                      16                                         \n",
      "Covariance Type:                        nonrobust                                         \n",
      "=============================================================================================\n",
      "                                coef    std err          t      P>|t|      [0.025      0.975]\n",
      "---------------------------------------------------------------------------------------------\n",
      "Intercept                     0.7195      0.000   2034.890      0.000       0.719       0.720\n",
      "vehicles_per_worker          -0.7982      0.000  -1963.213      0.000      -0.799      -0.797\n",
      "roads_length              -1.024e-09   1.51e-11    -67.917      0.000   -1.05e-09   -9.94e-10\n",
      "intersections             -4.368e-07   4.72e-09    -92.505      0.000   -4.46e-07   -4.28e-07\n",
      "total_population          -7.105e-08   4.74e-10   -149.789      0.000    -7.2e-08   -7.01e-08\n",
      "pct_unemployed                0.0017    1.4e-05    120.308      0.000       0.002       0.002\n",
      "land_area                  3.941e-14   5.63e-15      7.000      0.000    2.84e-14    5.04e-14\n",
      "ttl_households             2.589e-07   1.39e-09    186.464      0.000    2.56e-07    2.62e-07\n",
      "cbp_num_employees_5       -3.102e-06   3.18e-07     -9.751      0.000   -3.73e-06   -2.48e-06\n",
      "cbp_num_employees_5_9      2.474e-05   3.01e-06      8.219      0.000    1.88e-05    3.06e-05\n",
      "cbp_num_employees_10_19   -1.839e-05   5.61e-06     -3.279      0.001   -2.94e-05    -7.4e-06\n",
      "cbp_num_employees_20_49      1.9e-05   5.04e-06      3.774      0.000    9.13e-06    2.89e-05\n",
      "cbp_num_employees_50_99    -4.44e-05   1.24e-05     -3.582      0.000   -6.87e-05   -2.01e-05\n",
      "cbp_num_employees_100_249 -9.822e-05    1.6e-05     -6.124      0.000      -0.000   -6.68e-05\n",
      "cbp_num_employees_250_499  1.682e-05   4.31e-05      0.390      0.696   -6.76e-05       0.000\n",
      "cbp_num_employees_500_999     0.0006   8.54e-05      6.525      0.000       0.000       0.001\n",
      "cbp_num_employees_1000        0.0004   8.45e-05      5.030      0.000       0.000       0.001\n",
      "==============================================================================\n",
      "Omnibus:                   313146.011   Durbin-Watson:                   0.008\n",
      "Prob(Omnibus):                  0.000   Jarque-Bera (JB):          6104061.695\n",
      "Skew:                           0.916   Prob(JB):                         0.00\n",
      "Kurtosis:                      14.520   Cond. No.                     1.35e+11\n",
      "==============================================================================\n",
      "\n",
      "Notes:\n",
      "[1] Standard Errors assume that the covariance matrix of the errors is correctly specified.\n",
      "[2] The condition number is large, 1.35e+11. This might indicate that there are\n",
      "strong multicollinearity or other numerical problems.\n"
     ]
    }
   ],
   "source": [
    "lm_ols = smf.ols(formula = 'pct_walking_and_public_transit ~ \\\n",
    "                                vehicles_per_worker + \\\n",
    "                                roads_length + \\\n",
    "                                intersections + \\\n",
    "                                total_population + \\\n",
    "                                pct_unemployed + \\\n",
    "                                land_area + \\\n",
    "                                ttl_households + \\\n",
    "                                land_area + \\\n",
    "                                cbp_num_employees_5 + \\\n",
    "                                cbp_num_employees_5_9 + \\\n",
    "                                cbp_num_employees_10_19 + \\\n",
    "                                cbp_num_employees_20_49 + \\\n",
    "                                cbp_num_employees_50_99 + \\\n",
    "                                cbp_num_employees_100_249 + \\\n",
    "                                cbp_num_employees_250_499 + \\\n",
    "                                cbp_num_employees_500_999 + \\\n",
    "                                cbp_num_employees_1000',\n",
    "data = df).fit()\n",
    "print (lm_ols.summary())\n",
    "# lm_ols = smf.ols(formula = 'pct_walking_and_public_transit ~ \\\n",
    "#                                 vehicles_per_worker + \\\n",
    "#                                 roads_length + \\\n",
    "#                                 intersections + \\\n",
    "#                                 total_population + \\\n",
    "#                                 pct_unemployed + \\\n",
    "#                                 land_area + \\\n",
    "#                                 ttl_households + \\\n",
    "#                                 land_area + \\\n",
    "#                                 cbp_num_employees_5 ',\n",
    "# data = df).fit()\n",
    "# print (lm_ols.summary())"
   ]
  },
  {
   "cell_type": "code",
   "execution_count": null,
   "metadata": {},
   "outputs": [
    {
     "name": "stdout",
     "output_type": "stream",
     "text": [
      "                                  OLS Regression Results                                  \n",
      "==========================================================================================\n",
      "Dep. Variable:     pct_walking_and_public_transit   R-squared:                       0.851\n",
      "Model:                                        OLS   Adj. R-squared:                  0.851\n",
      "Method:                             Least Squares   F-statistic:                 3.617e+05\n",
      "Date:                            Wed, 28 Dec 2022   Prob (F-statistic):               0.00\n",
      "Time:                                    23:39:36   Log-Likelihood:             2.3592e+06\n",
      "No. Observations:                         1076734   AIC:                        -4.718e+06\n",
      "Df Residuals:                             1076716   BIC:                        -4.718e+06\n",
      "Df Model:                                      17                                         \n",
      "Covariance Type:                        nonrobust                                         \n",
      "=============================================================================================\n",
      "                                coef    std err          t      P>|t|      [0.025      0.975]\n",
      "---------------------------------------------------------------------------------------------\n",
      "Intercept                     0.7358      0.000   2032.202      0.000       0.735       0.736\n",
      "vehicles_per_worker          -0.8122      0.000  -2029.613      0.000      -0.813      -0.811\n",
      "roads_length               8.098e-10   1.81e-11     44.839      0.000    7.74e-10    8.45e-10\n",
      "intersections             -6.062e-07   4.78e-09   -126.867      0.000   -6.16e-07   -5.97e-07\n",
      "total_population          -6.265e-08    4.7e-10   -133.208      0.000   -6.36e-08   -6.17e-08\n",
      "pct_unemployed                0.0019   1.38e-05    134.576      0.000       0.002       0.002\n",
      "ttl_households             2.231e-07   1.38e-09    161.516      0.000     2.2e-07    2.26e-07\n",
      "sqrt_land_area            -2.473e-07   1.69e-09   -146.119      0.000   -2.51e-07   -2.44e-07\n",
      "cbp_total_establishments      0.0005   1.53e-05     34.708      0.000       0.001       0.001\n",
      "cbp_num_employees_5          -0.0005   1.53e-05    -34.878      0.000      -0.001      -0.001\n",
      "cbp_num_employees_5_9        -0.0005   1.55e-05    -32.725      0.000      -0.001      -0.000\n",
      "cbp_num_employees_10_19      -0.0005   1.63e-05    -33.394      0.000      -0.001      -0.001\n",
      "cbp_num_employees_20_49      -0.0005   1.61e-05    -32.025      0.000      -0.001      -0.000\n",
      "cbp_num_employees_50_99      -0.0006   1.97e-05    -29.430      0.000      -0.001      -0.001\n",
      "cbp_num_employees_100_249    -0.0006   2.21e-05    -28.689      0.000      -0.001      -0.001\n",
      "cbp_num_employees_250_499    -0.0005   4.53e-05    -11.241      0.000      -0.001      -0.000\n",
      "cbp_num_employees_500_999  2.803e-05   8.59e-05      0.326      0.744      -0.000       0.000\n",
      "cbp_num_employees_1000       -0.0001   8.52e-05     -1.412      0.158      -0.000    4.67e-05\n",
      "==============================================================================\n",
      "Omnibus:                   408551.995   Durbin-Watson:                   0.009\n",
      "Prob(Omnibus):                  0.000   Jarque-Bera (JB):         12933686.292\n",
      "Skew:                           1.201   Prob(JB):                         0.00\n",
      "Kurtosis:                      19.808   Cond. No.                     1.42e+08\n",
      "==============================================================================\n",
      "\n",
      "Notes:\n",
      "[1] Standard Errors assume that the covariance matrix of the errors is correctly specified.\n",
      "[2] The condition number is large, 1.42e+08. This might indicate that there are\n",
      "strong multicollinearity or other numerical problems.\n"
     ]
    }
   ],
   "source": [
    "lm_ols = smf.ols(formula = 'pct_walking_and_public_transit ~ \\\n",
    "                                vehicles_per_worker + \\\n",
    "                                roads_length + \\\n",
    "                                intersections + \\\n",
    "                                total_population + \\\n",
    "                                pct_unemployed + \\\n",
    "                                ttl_households + \\\n",
    "                                sqrt_land_area + \\\n",
    "                                cbp_total_establishments + \\\n",
    "                                cbp_num_employees_5 + \\\n",
    "                                cbp_num_employees_5_9 + \\\n",
    "                                cbp_num_employees_10_19 + \\\n",
    "                                cbp_num_employees_20_49 + \\\n",
    "                                cbp_num_employees_50_99 + \\\n",
    "                                cbp_num_employees_100_249 + \\\n",
    "                                cbp_num_employees_250_499 + \\\n",
    "                                cbp_num_employees_500_999 + \\\n",
    "                                cbp_num_employees_1000',\n",
    "data = df).fit()\n",
    "print (lm_ols.summary())"
   ]
  },
  {
   "attachments": {},
   "cell_type": "markdown",
   "metadata": {},
   "source": [
    "# LASSO REGRESSION"
   ]
  },
  {
   "cell_type": "code",
   "execution_count": null,
   "metadata": {},
   "outputs": [],
   "source": [
    "from sklearn.model_selection import train_test_split\n",
    "from sklearn.linear_model import LinearRegression\n",
    "from sklearn.linear_model import Ridge\n",
    "from sklearn.linear_model import Lasso\n",
    "from sklearn.model_selection import cross_val_score\n",
    "# from sklearn.linear_model import ElasticNet\n",
    "# model = ElasticNet(alpha=1.0, l1_ratio=0.5)\n",
    "from sklearn import preprocessing\n",
    "scaler = preprocessing.StandardScaler()\n",
    "\n",
    "# X = df['pct_walking_and_public_transit']\n",
    "# y = df[['vehicles_per_worker','roads_length','intersections','total_population','average_commute_time_per_worker_drive_alone','pct_unemployed','land_area']]\n",
    "\n",
    "df = df.dropna(subset=['pct_walking_and_public_transit','vehicles_per_worker','roads_length','intersections','total_population','average_commute_time_per_worker_drive_alone','pct_unemployed','land_area','cbp_total_employees', 'cbp_total_establishments'])\n",
    "\n",
    "X = df[['vehicles_per_worker','roads_length','intersections','total_population','average_commute_time_per_worker_drive_alone','pct_unemployed','land_area','cbp_total_employees', 'cbp_total_establishments']]\n",
    "y = df['pct_walking_and_public_transit']"
   ]
  },
  {
   "cell_type": "code",
   "execution_count": null,
   "metadata": {},
   "outputs": [],
   "source": [
    "\n",
    "# Here, I standardize by X data using StandardScalar\n",
    "X_train, X_test, y_train, y_test = train_test_split(X, y)\n",
    "# scaler.fit(X_test)\n",
    "# X_test_scaled = scaler.transform(X_test)\n",
    "# scaler.fit(X_train)\n",
    "# X_train_scaled = scaler.transform(X_train)\n",
    "\n",
    "scaler = preprocessing.StandardScaler().fit(X_train)\n",
    "X_train_scaled = scaler.transform(X_train)\n",
    "X_test_scaled = scaler.transform(X_test)"
   ]
  },
  {
   "cell_type": "code",
   "execution_count": null,
   "metadata": {},
   "outputs": [
    {
     "name": "stdout",
     "output_type": "stream",
     "text": [
      "LASSO REGRESSION (UNSCALED DATA)\n",
      "Training set score: 0.230\n",
      "Test set score: 0.225\n",
      "Mean Cross-Validation, Kfold: 0.229\n",
      "Mean MAE: 3.711 (0.549)\n"
     ]
    }
   ],
   "source": [
    "lasso = Lasso().fit(X_train, y_train) # Fit the training data to a lasso regression line with alpha = 0.01 and 100,000 iterations\n",
    "\n",
    "print(\"LASSO REGRESSION (UNSCALED DATA)\") # LASSO is L1 penalty, which adds “absolute value of magnitude” of coefficient as penalty term to the loss function. Good for feature selection when you have a lot of features.\n",
    "print(\"Training set score: {:.3f}\".format(lasso.score(X_train, y_train)))\n",
    "print(\"Test set score: {:.3f}\".format(lasso.score(X_test, y_test)))\n",
    "\n",
    "# Kfold cross validation\n",
    "print(\"Mean Cross-Validation, Kfold: {:.3f}\".format(np.mean(cross_val_score(lasso, X_train, y_train))))\n",
    "\n",
    "lasso_unscaled = np.mean(cross_val_score(lasso, X_train, y_train)) # Will use later to compare results\n",
    "\n",
    "# define model\n",
    "model = Lasso(alpha=1.0)\n",
    "\n",
    "# evaluate an lasso regression model on the dataset\n",
    "from numpy import mean\n",
    "from numpy import std\n",
    "from numpy import absolute\n",
    "from pandas import read_csv\n",
    "from sklearn.model_selection import cross_val_score\n",
    "from sklearn.model_selection import RepeatedKFold\n",
    "from sklearn.linear_model import Lasso\n",
    "# load the dataset\n",
    "url = 'https://raw.githubusercontent.com/jbrownlee/Datasets/master/housing.csv'\n",
    "dataframe = read_csv(url, header=None)\n",
    "data = dataframe.values\n",
    "X, y = data[:, :-1], data[:, -1]\n",
    "# define model\n",
    "model = Lasso(alpha=1.0)\n",
    "# define model evaluation method\n",
    "cv = RepeatedKFold(n_splits=10, n_repeats=3, random_state=1)\n",
    "# evaluate model\n",
    "scores = cross_val_score(model, X, y, scoring='neg_mean_absolute_error', cv=cv, n_jobs=-1)\n",
    "# force scores to be positive\n",
    "scores = absolute(scores)\n",
    "print('Mean MAE: %.3f (%.3f)' % (mean(scores), std(scores)))"
   ]
  },
  {
   "cell_type": "code",
   "execution_count": null,
   "metadata": {},
   "outputs": [
    {
     "name": "stdout",
     "output_type": "stream",
     "text": [
      "(506, 14)\n",
      "        0     1     2   3      4      5     6       7   8      9     10  \\\n",
      "0  0.00632  18.0  2.31   0  0.538  6.575  65.2  4.0900   1  296.0  15.3   \n",
      "1  0.02731   0.0  7.07   0  0.469  6.421  78.9  4.9671   2  242.0  17.8   \n",
      "2  0.02729   0.0  7.07   0  0.469  7.185  61.1  4.9671   2  242.0  17.8   \n",
      "3  0.03237   0.0  2.18   0  0.458  6.998  45.8  6.0622   3  222.0  18.7   \n",
      "4  0.06905   0.0  2.18   0  0.458  7.147  54.2  6.0622   3  222.0  18.7   \n",
      "\n",
      "       11    12    13  \n",
      "0  396.90  4.98  24.0  \n",
      "1  396.90  9.14  21.6  \n",
      "2  392.83  4.03  34.7  \n",
      "3  394.63  2.94  33.4  \n",
      "4  396.90  5.33  36.2  \n"
     ]
    }
   ],
   "source": [
    "# load and summarize the housing dataset\n",
    "from pandas import read_csv\n",
    "from matplotlib import pyplot\n",
    "# load dataset\n",
    "url = 'https://raw.githubusercontent.com/jbrownlee/Datasets/master/housing.csv'\n",
    "dataframe = read_csv(url, header=None)\n",
    "# summarize shape\n",
    "print(dataframe.shape)\n",
    "# summarize first few lines\n",
    "print(dataframe.head())"
   ]
  }
 ],
 "metadata": {
  "kernelspec": {
   "display_name": "base",
   "language": "python",
   "name": "python3"
  },
  "language_info": {
   "codemirror_mode": {
    "name": "ipython",
    "version": 3
   },
   "file_extension": ".py",
   "mimetype": "text/x-python",
   "name": "python",
   "nbconvert_exporter": "python",
   "pygments_lexer": "ipython3",
   "version": "3.9.13"
  },
  "orig_nbformat": 4,
  "vscode": {
   "interpreter": {
    "hash": "b8b887db99f8edfa7f3e3a008cc1b31fa63afeb09acb3c9f070418078094f7b2"
   }
  }
 },
 "nbformat": 4,
 "nbformat_minor": 2
}
