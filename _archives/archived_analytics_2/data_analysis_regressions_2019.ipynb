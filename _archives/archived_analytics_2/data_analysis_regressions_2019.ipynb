{
 "cells": [
  {
   "cell_type": "code",
   "execution_count": 54,
   "metadata": {},
   "outputs": [],
   "source": [
    "# Init\n",
    "# choropleth\n",
    "from __future__ import division\n",
    "import pandas as pd\n",
    "import numpy as np\n",
    "import statsmodels.api as sm\n",
    "import statsmodels.formula.api as smf\n",
    "import os\n",
    "import matplotlib.pyplot as plt\n",
    "import seaborn as sns"
   ]
  },
  {
   "attachments": {},
   "cell_type": "markdown",
   "metadata": {},
   "source": [
    "# County level data retrieval"
   ]
  },
  {
   "cell_type": "code",
   "execution_count": 55,
   "metadata": {},
   "outputs": [
    {
     "name": "stdout",
     "output_type": "stream",
     "text": [
      "['Unnamed: 0', 'Unnamed: 0_x', 'fips', 'total_population', 'log_total_population', 'population_density', 'total_workers', 'land_area', 'sqrt_land_area', 'aggregate_num_vehicles', 'aggregate_time_commute', 'aggregate_time_commute_drive_alone', 'aggregate_time_commute_carpool', 'aggregate_time_commute_public_transit', 'aggregate_time_commute_other_means', 'total_workers_drove_alone', 'total_workers_carpooled', 'total_workers_public_transit', 'total_workers_other_means', 'ttl_wrkr_cmute', 'wrkrs_drove_alone', 'wrkrs_drove_alone_below_100_poverty', 'pct_wrkrs_drove_alone_below_100_poverty', 'wrkrs_drove_alone_100_to_150_poverty', 'wrkrs_drove_alone_over_150_poverty', 'wrkrs_carpool', 'wrkrs_carpool_below_100_poverty', 'pct_wrkrs_carpool_below_100_poverty', 'wrkrs_carpool_100_to_150_poverty', 'wrkrs_carpool_over_150_poverty', 'wrkrs_public_transit', 'wrkrs_public_transit_below_100_poverty', 'pct_wrkrs_public_transit_below_100_poverty', 'wrkrs_public_transit_100_to_150_poverty', 'wrkrs_public_transit_over_150_poverty', 'wrkrs_walked', 'wrkrs_walked_below_100_poverty', 'pct_wrkrs_walked_below_100_poverty', 'wrkrs_walked_100_to_150_poverty', 'wrkrs_walked_over_150_poverty', 'wrkrs_commute_other_means', 'wrkrs_commute_other_means_below_100_poverty', 'pct_wrkrs_commute_other_means_below_100_poverty', 'wrkrs_commute_other_means_100_to_150_poverty', 'wrkrs_commute_other_means_over_150_poverty', 'ttl_wrkr_cmute_under_10_min', 'ttl_wrkr_cmute_10_to_14_min', 'ttl_wrkr_cmute_15_to_14_min', 'ttl_wrkr_cmute_20_to_24_min', 'ttl_wrkr_cmute_25_to_29_min', 'ttl_wrkr_cmute_30_to_34_min', 'ttl_wrkr_cmute_35_to_44_min', 'ttl_wrkr_cmute_45_to_59_min', 'ttl_wrkr_cmute_over_60', 'pct_wrkr_cmute_01_to_14_min', 'pct_wrkr_cmute_15_to_29_min', 'pct_wrkr_cmute_30_to_44_min', 'pct_wrkr_cmute_44_to_59_min', 'pct_wrkr_cmute_over_60_min', 'ttl_car_wrkr_cmute', 'ttl_car_wrkr_cmute_under_10_min', 'ttl_car_wrkr_cmute_10_to_14_min', 'ttl_car_wrkr_cmute_15_to_14_min', 'ttl_car_wrkr_cmute_20_to_24_min', 'ttl_car_wrkr_cmute_25_to_29_min', 'ttl_car_wrkr_cmute_30_to_34_min', 'ttl_car_wrkr_cmute_35_to_44_min', 'ttl_car_wrkr_cmute_45_to_59_min', 'ttl_car_wrkr_cmute_over_60_min', 'pct_car_wrkr_cmute', 'pct_car_wrkr_cmute_01_to_14_min', 'pct_car_wrkr_cmute_15_to_29_min', 'pct_car_wrkr_cmute_30_to_44_min', 'pct_car_wrkr_cmute_44_to_59_min', 'pct_car_wrkr_cmute_over_60_min', 'log_pct_car_wrkr_cmute', 'log_pct_car_wrkr_cmute_01_to_14_min', 'log_pct_car_wrkr_cmute_15_to_29_min', 'log_pct_car_wrkr_cmute_30_to_44_min', 'log_pct_car_wrkr_cmute_44_to_59_min', 'log_pct_car_wrkr_cmute_over_60_min', 'zero_check', 'ttl_all_public_tspt_wrkr_cmute', 'ttl_all_public_tspt_wrkr_cmute_under_10_min', 'ttl_all_public_tspt_wrkr_cmute_10_to_14_min', 'ttl_all_public_tspt_wrkr_cmute_15_to_14_min', 'ttl_all_public_tspt_wrkr_cmute_20_to_24_min', 'ttl_all_public_tspt_wrkr_cmute_25_to_29_min', 'ttl_all_public_tspt_wrkr_cmute_30_to_34_min', 'ttl_all_public_tspt_wrkr_cmute_35_to_44_min', 'ttl_all_public_tspt_wrkr_cmute_45_to_59_min', 'ttl_all_public_tspt_wrkr_cmute_over_60_min', 'pct_all_public_tspt_wrkr_cmute', 'pct_all_public_tspt_wrkr_cmute_01_to_14_min', 'pct_all_public_tspt_wrkr_cmute_15_to_29_min', 'pct_all_public_tspt_wrkr_cmute_30_to_44_min', 'pct_all_public_tspt_wrkr_cmute_44_to_59_min', 'pct_all_public_tspt_wrkr_cmute_over_60_min', 'ttl_bus_wrkr_cmute', 'ttl_bus_wrkr_cmute_under_10_min', 'ttl_bus_wrkr_cmute_10_to_14_min', 'ttl_bus_wrkr_cmute_15_to_14_min', 'ttl_bus_wrkr_cmute_20_to_24_min', 'ttl_bus_wrkr_cmute_25_to_29_min', 'ttl_bus_wrkr_cmute_30_to_34_min', 'ttl_bus_wrkr_cmute_35_to_44_min', 'ttl_bus_wrkr_cmute_45_to_59_min', 'ttl_bus_wrkr_cmute_over_60_min', 'pct_bus_wrkr_cmute', 'pct_bus_wrkr_cmute_01_to_14_min', 'pct_bus_wrkr_cmute_15_to_29_min', 'pct_bus_wrkr_cmute_30_to_44_min', 'pct_bus_wrkr_cmute_44_to_59_min', 'pct_bus_wrkr_cmute_over_60_min', 'ttl_local_rails_wrkr_cmute', 'ttl_local_rails_wrkr_cmute_under_10_min', 'ttl_local_rails_wrkr_cmute_10_to_14_min', 'ttl_local_rails_wrkr_cmute_15_to_14_min', 'ttl_local_rails_wrkr_cmute_20_to_24_min', 'ttl_local_rails_wrkr_cmute_25_to_29_min', 'ttl_local_rails_wrkr_cmute_30_to_34_min', 'ttl_local_rails_wrkr_cmute_35_to_44_min', 'ttl_local_rails_wrkr_cmute_45_to_59_min', 'ttl_local_rails_wrkr_cmute_over_60_min', 'pct_local_rails_wrkr_cmute', 'pct_local_rails_wrkr_cmute_01_to_14_min', 'pct_local_rails_wrkr_cmute_15_to_29_min', 'pct_local_rails_wrkr_cmute_30_to_44_min', 'pct_local_rails_wrkr_cmute_44_to_59_min', 'pct_local_rails_wrkr_cmute_over_60_min', 'ttl_long_distance_public_transport_wrkr_cmute', 'ttl_long_distance_public_transport_wrkr_cmute_under_10_min', 'ttl_long_distance_public_transport_wrkr_cmute_10_to_14_min', 'ttl_long_distance_public_transport_wrkr_cmute_15_to_14_min', 'ttl_long_distance_public_transport_wrkr_cmute_20_to_24_min', 'ttl_long_distance_public_transport_wrkr_cmute_25_to_29_min', 'ttl_long_distance_public_transport_wrkr_cmute_30_to_34_min', 'ttl_long_distance_public_transport_wrkr_cmute_35_to_44_min', 'ttl_long_distance_public_transport_wrkr_cmute_45_to_59_min', 'ttl_long_distance_public_transport_wrkr_cmute_over_60_min', 'pct_long_distance_public_transport_wrkr_cmute', 'pct_long_distance_public_transport_wrkr_cmute_01_to_14_min', 'pct_long_distance_public_transport_wrkr_cmute_15_to_29_min', 'pct_long_distance_public_transport_wrkr_cmute_30_to_44_min', 'pct_long_distance_public_transport_wrkr_cmute_44_to_59_min', 'pct_long_distance_public_transport_wrkr_cmute_over_60_min', 'ttl_walked_wrkr_cmute', 'ttl_walked_wrkr_cmute_under_10_min', 'ttl_walked_wrkr_cmute_10_to_14_min', 'ttl_walked_wrkr_cmute_15_to_14_min', 'ttl_walked_wrkr_cmute_20_to_24_min', 'ttl_walked_wrkr_cmute_25_to_29_min', 'ttl_walked_wrkr_cmute_30_to_34_min', 'ttl_walked_wrkr_cmute_35_to_44_min', 'ttl_walked_wrkr_cmute_45_to_59_min', 'ttl_walked_wrkr_cmute_over_60_min', 'pct_walked_wrkr_cmute', 'pct_walked_wrkr_cmute_01_to_14_min', 'pct_walked_wrkr_cmute_15_to_29_min', 'pct_walked_wrkr_cmute_30_to_44_min', 'pct_walked_wrkr_cmute_44_to_59_min', 'pct_walked_wrkr_cmute_over_60_min', 'ttl_misc_trspt_method_wrkr_cmute', 'ttl_misc_trspt_method_wrkr_cmute_under_10_min', 'ttl_misc_trspt_method_wrkr_cmute_10_to_14_min', 'ttl_misc_trspt_method_wrkr_cmute_15_to_14_min', 'ttl_misc_trspt_method_wrkr_cmute_20_to_24_min', 'ttl_misc_trspt_method_wrkr_cmute_25_to_29_min', 'ttl_misc_trspt_method_wrkr_cmute_30_to_34_min', 'ttl_misc_trspt_method_wrkr_cmute_35_to_44_min', 'ttl_misc_trspt_method_wrkr_cmute_45_to_59_min', 'ttl_misc_trspt_method_wrkr_cmute_over_60_min', 'pct_misc_trspt_method_wrkr_cmute', 'pct_misc_trspt_method_wrkr_cmute_01_to_14_min', 'pct_misc_trspt_method_wrkr_cmute_15_to_29_min', 'pct_misc_trspt_method_wrkr_cmute_30_to_44_min', 'pct_misc_trspt_method_wrkr_cmute_44_to_59_min', 'pct_misc_trspt_method_wrkr_cmute_over_60_min', 'ttl_households', 'population_in_labor_force', 'population_employed', 'population_unemployed', 'pct_unemployed', 'worker_density', 'vehicles_density', 'vehicles_per_worker', 'log_vehicles_per_worker', 'vehicles_per_worker_x_landarea', 'vehicles_per_worker_per_landarea', 'vehicles_x_worker_per_landarea', 'vehicle_density_x_vehicles_per_worker', 'average_commute_time_per_worker_drive_alone', 'average_commute_time_per_worker_carpool', 'average_commute_time_per_worker_public_transit', 'average_commute_time_per_worker_other_means', 'households_with_0_vehicle', 'households_with_1_vehicle', 'households_with_2_vehicle', 'households_with_3_vehicle', 'households_with_4_vehicle', 'households_with_5_or_more_vehicle', 'Unnamed: 0_y', 'naics', 'cbp_total_employees', 'cbp_total_establishments', 'cbp_num_employees_5', 'cbp_num_employees_5_9', 'cbp_num_employees_10_19', 'cbp_num_employees_20_49', 'cbp_num_employees_50_99', 'cbp_num_employees_100_249', 'cbp_num_employees_250_499', 'cbp_num_employees_500_999', 'cbp_num_employees_1000', 'county_zip_file_name', 'roads_length', 'intersections', 'fips_str']\n"
     ]
    }
   ],
   "source": [
    "df = pd.read_csv('../data/2019_data/prepped_data_2019.csv', na_values=\".\")\n",
    "print(df.columns.tolist())"
   ]
  },
  {
   "attachments": {},
   "cell_type": "markdown",
   "metadata": {},
   "source": [
    "# Data Cleanup involves combining data from two different years"
   ]
  },
  {
   "cell_type": "code",
   "execution_count": 56,
   "metadata": {},
   "outputs": [],
   "source": [
    "# ##### Data Cleanup\n",
    "\n",
    "# df = df.dropna(subset=['vehicles_per_worker',\n",
    "#                                  'total_workers',\n",
    "#                                  'land_area',\n",
    "#                                  'pct_unemployed',\n",
    "#                                  'average_commute_time_per_worker_drive_alone',\n",
    "#                                  'pct_car_wrkr_cmute_01_to_14_min',\n",
    "#                                  'pct_car_wrkr_cmute_15_to_29_min',\n",
    "#                                  'pct_car_wrkr_cmute_30_to_44_min',\n",
    "#                                  'pct_car_wrkr_cmute_44_to_59_min',\n",
    "#                                  'pct_car_wrkr_cmute_over_60_min',\n",
    "#                                  'total_population'])\n",
    "\n",
    "# df['total_workers'] = df['total_workers']\n",
    "# df['land_area'] = df['land_area']\n",
    "# df['vehicles_per_worker'] = df['vehicles_per_worker']\n",
    "# df['average_commute_time_per_worker_drive_alone'] = df['average_commute_time_per_worker_drive_alone']\n",
    "# df['pct_car_wrkr_cmute_01_to_14_min'] = df['pct_car_wrkr_cmute_01_to_14_min']\n",
    "# df['pct_car_wrkr_cmute_15_to_29_min'] = df['pct_car_wrkr_cmute_15_to_29_min']\n",
    "# df['pct_car_wrkr_cmute_44_to_59_min'] = df['pct_car_wrkr_cmute_44_to_59_min']\n",
    "# df['pct_car_wrkr_cmute_30_to_44_min'] = df['pct_car_wrkr_cmute_30_to_44_min']\n",
    "# df['pct_car_wrkr_cmute_over_60_min'] = df['pct_car_wrkr_cmute_over_60_min']\n",
    "# df['pct_unemployed'] = df['pct_unemployed']\n",
    "# df['total_population'] = df['total_population']\n",
    "# df['year'] = 2019"
   ]
  },
  {
   "cell_type": "markdown",
   "metadata": {},
   "source": [
    "# OLS Regression - Multivariate"
   ]
  },
  {
   "cell_type": "code",
   "execution_count": 57,
   "metadata": {},
   "outputs": [
    {
     "name": "stderr",
     "output_type": "stream",
     "text": [
      "C:\\Users\\cjong\\AppData\\Local\\Temp\\ipykernel_25460\\3390946073.py:2: UserWarning: Pandas doesn't allow columns to be created via a new attribute name - see https://pandas.pydata.org/pandas-docs/stable/indexing.html#attribute-access\n",
      "  df.pct_walking_and_public_transit = df.pct_all_public_tspt_wrkr_cmute + df.pct_walked_wrkr_cmute\n"
     ]
    },
    {
     "data": {
      "text/plain": [
       "0       0.015675\n",
       "1       0.006936\n",
       "2       0.030587\n",
       "3       0.001391\n",
       "4       0.005852\n",
       "          ...   \n",
       "3215    0.019362\n",
       "3216    0.044232\n",
       "3217    0.025020\n",
       "3218    0.020998\n",
       "3219    0.038529\n",
       "Length: 3220, dtype: float64"
      ]
     },
     "execution_count": 57,
     "metadata": {},
     "output_type": "execute_result"
    }
   ],
   "source": [
    "df = df\n",
    "df.pct_walking_and_public_transit = df.pct_all_public_tspt_wrkr_cmute + df.pct_walked_wrkr_cmute\n",
    "df.pct_walking_and_public_transit\n"
   ]
  },
  {
   "cell_type": "code",
   "execution_count": 58,
   "metadata": {},
   "outputs": [
    {
     "data": {
      "text/plain": [
       "0       0.015675\n",
       "1       0.006936\n",
       "2       0.030587\n",
       "3       0.001391\n",
       "4       0.005852\n",
       "          ...   \n",
       "3215    0.019362\n",
       "3216    0.044232\n",
       "3217    0.025020\n",
       "3218    0.020998\n",
       "3219    0.038529\n",
       "Name: pct_walking_and_public_transit, Length: 3220, dtype: float64"
      ]
     },
     "execution_count": 58,
     "metadata": {},
     "output_type": "execute_result"
    }
   ],
   "source": [
    "df = df\n",
    "df['pct_walking_and_public_transit'] = df['pct_all_public_tspt_wrkr_cmute'] + df['pct_walked_wrkr_cmute']\n",
    "df['pct_walking_and_public_transit']\n"
   ]
  },
  {
   "attachments": {},
   "cell_type": "markdown",
   "metadata": {},
   "source": [
    "### Thought process\n",
    "If there are significances found between the percentage of people that commute to work by walking & public transit and the combination of cars per worker, \n",
    "\n",
    "Based on the research paper \n",
    "https://www.sciencedirect.com/science/article/pii/S2214367X22000333\n",
    "\"The results reveal that the choice of public transport as a daily commute mode is significantly affected by car ownership, distance to work, parking availability, and ticket prices\""
   ]
  },
  {
   "cell_type": "code",
   "execution_count": 59,
   "metadata": {},
   "outputs": [
    {
     "name": "stdout",
     "output_type": "stream",
     "text": [
      "                                  OLS Regression Results                                  \n",
      "==========================================================================================\n",
      "Dep. Variable:     pct_walking_and_public_transit   R-squared:                       0.388\n",
      "Model:                                        OLS   Adj. R-squared:                  0.387\n",
      "Method:                             Least Squares   F-statistic:                     331.1\n",
      "Date:                            Sun, 15 Jan 2023   Prob (F-statistic):               0.00\n",
      "Time:                                    15:45:35   Log-Likelihood:                 5384.7\n",
      "No. Observations:                            3139   AIC:                        -1.076e+04\n",
      "Df Residuals:                                3132   BIC:                        -1.071e+04\n",
      "Df Model:                                       6                                         \n",
      "Covariance Type:                        nonrobust                                         \n",
      "============================================================================================\n",
      "                               coef    std err          t      P>|t|      [0.025      0.975]\n",
      "--------------------------------------------------------------------------------------------\n",
      "Intercept                    0.0460      0.002     26.118      0.000       0.043       0.050\n",
      "total_population          3.269e-07   1.75e-08     18.733      0.000    2.93e-07    3.61e-07\n",
      "aggregate_num_vehicles   -1.092e-06    3.4e-08    -32.109      0.000   -1.16e-06   -1.03e-06\n",
      "pct_unemployed              -0.0019      0.000     -6.251      0.000      -0.002      -0.001\n",
      "land_area                 1.994e-12   8.41e-14     23.700      0.000    1.83e-12    2.16e-12\n",
      "cbp_total_employees         2.2e-07   2.41e-08      9.119      0.000    1.73e-07    2.67e-07\n",
      "cbp_total_establishments  3.667e-07    5.7e-07      0.643      0.520   -7.51e-07    1.48e-06\n",
      "==============================================================================\n",
      "Omnibus:                     2716.434   Durbin-Watson:                   1.487\n",
      "Prob(Omnibus):                  0.000   Jarque-Bera (JB):           120196.732\n",
      "Skew:                           3.916   Prob(JB):                         0.00\n",
      "Kurtosis:                      32.286   Cond. No.                     2.25e+10\n",
      "==============================================================================\n",
      "\n",
      "Notes:\n",
      "[1] Standard Errors assume that the covariance matrix of the errors is correctly specified.\n",
      "[2] The condition number is large, 2.25e+10. This might indicate that there are\n",
      "strong multicollinearity or other numerical problems.\n"
     ]
    }
   ],
   "source": [
    "# ols regression logic the following\n",
    "# walking and public total pct is affected by the following\n",
    "# average vehicles per worker\n",
    "# \n",
    "lm_ols = smf.ols(formula = 'pct_walking_and_public_transit ~ \\\n",
    "                                total_population + \\\n",
    "                                aggregate_num_vehicles + \\\n",
    "                                pct_unemployed + \\\n",
    "                                land_area + \\\n",
    "                                cbp_total_employees + \\\n",
    "                                cbp_total_establishments',\n",
    "                                data = df).fit()\n",
    "print (lm_ols.summary())"
   ]
  },
  {
   "cell_type": "code",
   "execution_count": 60,
   "metadata": {},
   "outputs": [
    {
     "name": "stdout",
     "output_type": "stream",
     "text": [
      "                                  OLS Regression Results                                  \n",
      "==========================================================================================\n",
      "Dep. Variable:     pct_walking_and_public_transit   R-squared:                       0.403\n",
      "Model:                                        OLS   Adj. R-squared:                  0.401\n",
      "Method:                             Least Squares   F-statistic:                     263.6\n",
      "Date:                            Sun, 15 Jan 2023   Prob (F-statistic):               0.00\n",
      "Time:                                    15:45:35   Log-Likelihood:                 5422.2\n",
      "No. Observations:                            3139   AIC:                        -1.083e+04\n",
      "Df Residuals:                                3130   BIC:                        -1.077e+04\n",
      "Df Model:                                       8                                         \n",
      "Covariance Type:                        nonrobust                                         \n",
      "============================================================================================\n",
      "                               coef    std err          t      P>|t|      [0.025      0.975]\n",
      "--------------------------------------------------------------------------------------------\n",
      "Intercept                    0.0520      0.002     26.973      0.000       0.048       0.056\n",
      "total_population          3.439e-07   1.74e-08     19.802      0.000     3.1e-07    3.78e-07\n",
      "aggregate_num_vehicles   -1.035e-06   3.51e-08    -29.515      0.000    -1.1e-06   -9.67e-07\n",
      "roads_length              -1.48e-09   5.49e-10     -2.697      0.007   -2.56e-09   -4.04e-10\n",
      "intersections             -5.15e-07   2.25e-07     -2.287      0.022   -9.57e-07   -7.35e-08\n",
      "pct_unemployed              -0.0018      0.000     -6.189      0.000      -0.002      -0.001\n",
      "land_area                 2.176e-12   8.72e-14     24.948      0.000       2e-12    2.35e-12\n",
      "cbp_total_employees       2.213e-07    2.4e-08      9.220      0.000    1.74e-07    2.68e-07\n",
      "cbp_total_establishments -2.666e-07   5.71e-07     -0.467      0.641   -1.39e-06    8.53e-07\n",
      "==============================================================================\n",
      "Omnibus:                     2622.583   Durbin-Watson:                   1.500\n",
      "Prob(Omnibus):                  0.000   Jarque-Bera (JB):           118538.624\n",
      "Skew:                           3.688   Prob(JB):                         0.00\n",
      "Kurtosis:                      32.188   Cond. No.                     2.48e+10\n",
      "==============================================================================\n",
      "\n",
      "Notes:\n",
      "[1] Standard Errors assume that the covariance matrix of the errors is correctly specified.\n",
      "[2] The condition number is large, 2.48e+10. This might indicate that there are\n",
      "strong multicollinearity or other numerical problems.\n"
     ]
    }
   ],
   "source": [
    "# ols regression logic the following\n",
    "# walking and public total pct is affected by the following\n",
    "# average vehicles per worker\n",
    "# \n",
    "lm_ols = smf.ols(formula = 'pct_walking_and_public_transit ~ \\\n",
    "                                total_population + \\\n",
    "                                aggregate_num_vehicles + \\\n",
    "                                roads_length + \\\n",
    "                                intersections + \\\n",
    "                                pct_unemployed + \\\n",
    "                                land_area + \\\n",
    "                                cbp_total_employees + \\\n",
    "                                cbp_total_establishments',\n",
    "                                data = df).fit()\n",
    "print (lm_ols.summary())"
   ]
  },
  {
   "cell_type": "code",
   "execution_count": 61,
   "metadata": {},
   "outputs": [
    {
     "name": "stdout",
     "output_type": "stream",
     "text": [
      "                                  OLS Regression Results                                  \n",
      "==========================================================================================\n",
      "Dep. Variable:     pct_all_public_tspt_wrkr_cmute   R-squared:                       0.615\n",
      "Model:                                        OLS   Adj. R-squared:                  0.613\n",
      "Method:                             Least Squares   F-statistic:                     245.2\n",
      "Date:                            Sun, 15 Jan 2023   Prob (F-statistic):          1.02e-278\n",
      "Time:                                    15:45:35   Log-Likelihood:                 2943.4\n",
      "No. Observations:                            1389   AIC:                            -5867.\n",
      "Df Residuals:                                1379   BIC:                            -5814.\n",
      "Df Model:                                       9                                         \n",
      "Covariance Type:                        nonrobust                                         \n",
      "===============================================================================================================\n",
      "                                                  coef    std err          t      P>|t|      [0.025      0.975]\n",
      "---------------------------------------------------------------------------------------------------------------\n",
      "Intercept                                       0.3384      0.011     31.506      0.000       0.317       0.360\n",
      "vehicles_per_worker                            -0.4106      0.012    -34.942      0.000      -0.434      -0.388\n",
      "roads_length                                -1.388e-09   4.82e-10     -2.878      0.004   -2.33e-09   -4.42e-10\n",
      "intersections                               -3.634e-07   1.78e-07     -2.037      0.042   -7.13e-07   -1.35e-08\n",
      "total_population                             3.652e-08      9e-09      4.056      0.000    1.89e-08    5.42e-08\n",
      "average_commute_time_per_worker_drive_alone     0.0010      0.000      6.343      0.000       0.001       0.001\n",
      "pct_unemployed                                  0.0007      0.000      2.158      0.031    6.51e-05       0.001\n",
      "land_area                                   -6.492e-13   6.86e-14     -9.462      0.000   -7.84e-13   -5.15e-13\n",
      "cbp_total_employees                          8.359e-08    1.7e-08      4.910      0.000    5.02e-08    1.17e-07\n",
      "cbp_total_establishments                    -1.292e-06   4.04e-07     -3.197      0.001   -2.08e-06   -4.99e-07\n",
      "==============================================================================\n",
      "Omnibus:                      747.882   Durbin-Watson:                   1.842\n",
      "Prob(Omnibus):                  0.000   Jarque-Bera (JB):            37102.156\n",
      "Skew:                           1.765   Prob(JB):                         0.00\n",
      "Kurtosis:                      28.072   Cond. No.                     2.65e+11\n",
      "==============================================================================\n",
      "\n",
      "Notes:\n",
      "[1] Standard Errors assume that the covariance matrix of the errors is correctly specified.\n",
      "[2] The condition number is large, 2.65e+11. This might indicate that there are\n",
      "strong multicollinearity or other numerical problems.\n"
     ]
    }
   ],
   "source": [
    "# ols regression logic the following\n",
    "# walking and public total pct is affected by the following\n",
    "# average vehicles per worker\n",
    "# \n",
    "lm_ols = smf.ols(formula = 'pct_all_public_tspt_wrkr_cmute ~ \\\n",
    "                                vehicles_per_worker + \\\n",
    "                                roads_length + \\\n",
    "                                intersections + \\\n",
    "                                total_population + \\\n",
    "                                average_commute_time_per_worker_drive_alone + \\\n",
    "                                pct_unemployed + \\\n",
    "                                land_area + \\\n",
    "                                cbp_total_employees + \\\n",
    "                                cbp_total_establishments',\n",
    "                                data = df).fit()\n",
    "print (lm_ols.summary())"
   ]
  },
  {
   "cell_type": "code",
   "execution_count": 62,
   "metadata": {},
   "outputs": [
    {
     "name": "stdout",
     "output_type": "stream",
     "text": [
      "                                  OLS Regression Results                                  \n",
      "==========================================================================================\n",
      "Dep. Variable:     pct_walking_and_public_transit   R-squared:                       0.770\n",
      "Model:                                        OLS   Adj. R-squared:                  0.769\n",
      "Method:                             Least Squares   F-statistic:                     513.2\n",
      "Date:                            Sun, 15 Jan 2023   Prob (F-statistic):               0.00\n",
      "Time:                                    15:45:35   Log-Likelihood:                 2886.2\n",
      "No. Observations:                            1389   AIC:                            -5752.\n",
      "Df Residuals:                                1379   BIC:                            -5700.\n",
      "Df Model:                                       9                                         \n",
      "Covariance Type:                        nonrobust                                         \n",
      "===============================================================================================================\n",
      "                                                  coef    std err          t      P>|t|      [0.025      0.975]\n",
      "---------------------------------------------------------------------------------------------------------------\n",
      "Intercept                                       0.6086      0.011     54.372      0.000       0.587       0.631\n",
      "vehicles_per_worker                            -0.6510      0.012    -53.164      0.000      -0.675      -0.627\n",
      "roads_length                                -2.416e-09   5.03e-10     -4.807      0.000    -3.4e-09   -1.43e-09\n",
      "intersections                               -3.792e-07   1.86e-07     -2.040      0.042   -7.44e-07   -1.45e-08\n",
      "total_population                             2.136e-08   9.38e-09      2.276      0.023    2.95e-09    3.98e-08\n",
      "average_commute_time_per_worker_drive_alone    -0.0006      0.000     -3.494      0.000      -0.001      -0.000\n",
      "pct_unemployed                                  0.0012      0.000      3.366      0.001       0.000       0.002\n",
      "land_area                                    4.182e-13   7.15e-14      5.849      0.000    2.78e-13    5.58e-13\n",
      "cbp_total_employees                          9.862e-08   1.77e-08      5.559      0.000    6.38e-08    1.33e-07\n",
      "cbp_total_establishments                    -1.061e-06   4.21e-07     -2.520      0.012   -1.89e-06   -2.35e-07\n",
      "==============================================================================\n",
      "Omnibus:                      694.217   Durbin-Watson:                   1.796\n",
      "Prob(Omnibus):                  0.000   Jarque-Bera (JB):            16821.914\n",
      "Skew:                           1.790   Prob(JB):                         0.00\n",
      "Kurtosis:                      19.669   Cond. No.                     2.65e+11\n",
      "==============================================================================\n",
      "\n",
      "Notes:\n",
      "[1] Standard Errors assume that the covariance matrix of the errors is correctly specified.\n",
      "[2] The condition number is large, 2.65e+11. This might indicate that there are\n",
      "strong multicollinearity or other numerical problems.\n"
     ]
    }
   ],
   "source": [
    "# ols regression logic the following\n",
    "# walking and public total pct is affected by the following\n",
    "# average vehicles per worker\n",
    "# \n",
    "lm_ols = smf.ols(formula = 'pct_walking_and_public_transit ~ \\\n",
    "                                vehicles_per_worker + \\\n",
    "                                roads_length + \\\n",
    "                                intersections + \\\n",
    "                                total_population + \\\n",
    "                                average_commute_time_per_worker_drive_alone + \\\n",
    "                                pct_unemployed + \\\n",
    "                                land_area + \\\n",
    "                                cbp_total_employees + \\\n",
    "                                cbp_total_establishments',\n",
    "                                data = df).fit()\n",
    "print (lm_ols.summary())"
   ]
  },
  {
   "cell_type": "code",
   "execution_count": 63,
   "metadata": {},
   "outputs": [
    {
     "name": "stdout",
     "output_type": "stream",
     "text": [
      "                                  OLS Regression Results                                  \n",
      "==========================================================================================\n",
      "Dep. Variable:     pct_walking_and_public_transit   R-squared:                       0.765\n",
      "Model:                                        OLS   Adj. R-squared:                  0.763\n",
      "Method:                             Least Squares   F-statistic:                     640.5\n",
      "Date:                            Sun, 15 Jan 2023   Prob (F-statistic):               0.00\n",
      "Time:                                    15:45:36   Log-Likelihood:                 2869.6\n",
      "No. Observations:                            1389   AIC:                            -5723.\n",
      "Df Residuals:                                1381   BIC:                            -5681.\n",
      "Df Model:                                       7                                         \n",
      "Covariance Type:                        nonrobust                                         \n",
      "===============================================================================================================\n",
      "                                                  coef    std err          t      P>|t|      [0.025      0.975]\n",
      "---------------------------------------------------------------------------------------------------------------\n",
      "Intercept                                       0.6216      0.011     56.541      0.000       0.600       0.643\n",
      "vehicles_per_worker                            -0.6645      0.012    -55.008      0.000      -0.688      -0.641\n",
      "roads_length                                -2.813e-09   5.03e-10     -5.592      0.000    -3.8e-09   -1.83e-09\n",
      "intersections                               -2.255e-07   1.85e-07     -1.216      0.224   -5.89e-07    1.38e-07\n",
      "total_population                             3.331e-08   3.63e-09      9.178      0.000    2.62e-08    4.04e-08\n",
      "average_commute_time_per_worker_drive_alone    -0.0006      0.000     -3.738      0.000      -0.001      -0.000\n",
      "pct_unemployed                                  0.0012      0.000      3.320      0.001       0.000       0.002\n",
      "land_area                                    3.909e-13   7.21e-14      5.419      0.000    2.49e-13    5.32e-13\n",
      "==============================================================================\n",
      "Omnibus:                      683.223   Durbin-Watson:                   1.792\n",
      "Prob(Omnibus):                  0.000   Jarque-Bera (JB):            17529.174\n",
      "Skew:                           1.731   Prob(JB):                         0.00\n",
      "Kurtosis:                      20.055   Cond. No.                     2.58e+11\n",
      "==============================================================================\n",
      "\n",
      "Notes:\n",
      "[1] Standard Errors assume that the covariance matrix of the errors is correctly specified.\n",
      "[2] The condition number is large, 2.58e+11. This might indicate that there are\n",
      "strong multicollinearity or other numerical problems.\n"
     ]
    }
   ],
   "source": [
    "# ols regression logic the following\n",
    "# walking and public total pct is affected by the following\n",
    "# average vehicles per worker\n",
    "# \n",
    "lm_ols = smf.ols(formula = 'pct_walking_and_public_transit ~ \\\n",
    "                                vehicles_per_worker + \\\n",
    "                                roads_length + \\\n",
    "                                intersections + \\\n",
    "                                total_population + \\\n",
    "                                average_commute_time_per_worker_drive_alone + \\\n",
    "                                pct_unemployed + \\\n",
    "                                land_area + \\\n",
    "                                cbp_total_employees + \\\n",
    "                                cbp_total_establishments',\n",
    "                                data = df).fit()\n",
    "print (lm_ols.summary())"
   ]
  },
  {
   "cell_type": "code",
   "execution_count": 64,
   "metadata": {},
   "outputs": [
    {
     "name": "stdout",
     "output_type": "stream",
     "text": [
      "                                  OLS Regression Results                                  \n",
      "==========================================================================================\n",
      "Dep. Variable:     pct_walking_and_public_transit   R-squared:                       0.770\n",
      "Model:                                        OLS   Adj. R-squared:                  0.769\n",
      "Method:                             Least Squares   F-statistic:                     513.2\n",
      "Date:                            Sun, 15 Jan 2023   Prob (F-statistic):               0.00\n",
      "Time:                                    15:45:36   Log-Likelihood:                 2886.2\n",
      "No. Observations:                            1389   AIC:                            -5752.\n",
      "Df Residuals:                                1379   BIC:                            -5700.\n",
      "Df Model:                                       9                                         \n",
      "Covariance Type:                        nonrobust                                         \n",
      "===============================================================================================================\n",
      "                                                  coef    std err          t      P>|t|      [0.025      0.975]\n",
      "---------------------------------------------------------------------------------------------------------------\n",
      "Intercept                                       0.6086      0.011     54.372      0.000       0.587       0.631\n",
      "vehicles_per_worker                            -0.6510      0.012    -53.164      0.000      -0.675      -0.627\n",
      "roads_length                                -2.416e-09   5.03e-10     -4.807      0.000    -3.4e-09   -1.43e-09\n",
      "intersections                               -3.792e-07   1.86e-07     -2.040      0.042   -7.44e-07   -1.45e-08\n",
      "total_population                             2.136e-08   9.38e-09      2.276      0.023    2.95e-09    3.98e-08\n",
      "average_commute_time_per_worker_drive_alone    -0.0006      0.000     -3.494      0.000      -0.001      -0.000\n",
      "pct_unemployed                                  0.0012      0.000      3.366      0.001       0.000       0.002\n",
      "land_area                                    4.182e-13   7.15e-14      5.849      0.000    2.78e-13    5.58e-13\n",
      "cbp_total_employees                          9.862e-08   1.77e-08      5.559      0.000    6.38e-08    1.33e-07\n",
      "cbp_total_establishments                    -1.061e-06   4.21e-07     -2.520      0.012   -1.89e-06   -2.35e-07\n",
      "==============================================================================\n",
      "Omnibus:                      694.217   Durbin-Watson:                   1.796\n",
      "Prob(Omnibus):                  0.000   Jarque-Bera (JB):            16821.914\n",
      "Skew:                           1.790   Prob(JB):                         0.00\n",
      "Kurtosis:                      19.669   Cond. No.                     2.65e+11\n",
      "==============================================================================\n",
      "\n",
      "Notes:\n",
      "[1] Standard Errors assume that the covariance matrix of the errors is correctly specified.\n",
      "[2] The condition number is large, 2.65e+11. This might indicate that there are\n",
      "strong multicollinearity or other numerical problems.\n"
     ]
    }
   ],
   "source": [
    "# ols regression logic the following\n",
    "# walking and public total pct is affected by the following\n",
    "# average vehicles per worker\n",
    "\n",
    "lm_ols = smf.ols(formula = 'pct_walking_and_public_transit ~ \\\n",
    "                                vehicles_per_worker + \\\n",
    "                                roads_length + \\\n",
    "                                intersections + \\\n",
    "                                total_population + \\\n",
    "                                average_commute_time_per_worker_drive_alone + \\\n",
    "                                pct_unemployed + \\\n",
    "                                land_area + \\\n",
    "                                cbp_total_employees + \\\n",
    "                                cbp_total_establishments',\n",
    "                                data = df).fit()\n",
    "print (lm_ols.summary())"
   ]
  },
  {
   "cell_type": "code",
   "execution_count": 65,
   "metadata": {},
   "outputs": [
    {
     "name": "stdout",
     "output_type": "stream",
     "text": [
      "                                  OLS Regression Results                                  \n",
      "==========================================================================================\n",
      "Dep. Variable:     pct_walking_and_public_transit   R-squared:                       0.698\n",
      "Model:                                        OLS   Adj. R-squared:                  0.697\n",
      "Method:                             Least Squares   F-statistic:                     904.9\n",
      "Date:                            Sun, 15 Jan 2023   Prob (F-statistic):               0.00\n",
      "Time:                                    15:45:36   Log-Likelihood:                 6493.6\n",
      "No. Observations:                            3139   AIC:                        -1.297e+04\n",
      "Df Residuals:                                3130   BIC:                        -1.291e+04\n",
      "Df Model:                                       8                                         \n",
      "Covariance Type:                        nonrobust                                         \n",
      "============================================================================================\n",
      "                               coef    std err          t      P>|t|      [0.025      0.975]\n",
      "--------------------------------------------------------------------------------------------\n",
      "Intercept                    0.5551      0.007     74.464      0.000       0.540       0.570\n",
      "vehicles_per_worker         -0.6009      0.009    -69.200      0.000      -0.618      -0.584\n",
      "roads_length             -1.615e-09   3.88e-10     -4.167      0.000   -2.38e-09   -8.55e-10\n",
      "intersections            -3.545e-07   1.57e-07     -2.258      0.024   -6.62e-07   -4.66e-08\n",
      "total_population          1.394e-08   8.86e-09      1.573      0.116   -3.44e-09    3.13e-08\n",
      "pct_unemployed               0.0001      0.000      0.657      0.511      -0.000       0.001\n",
      "land_area                 6.441e-13   6.58e-14      9.783      0.000    5.15e-13    7.73e-13\n",
      "cbp_total_employees       1.191e-07   1.71e-08      6.946      0.000    8.55e-08    1.53e-07\n",
      "cbp_total_establishments -1.254e-06   4.06e-07     -3.087      0.002   -2.05e-06   -4.57e-07\n",
      "==============================================================================\n",
      "Omnibus:                     2337.810   Durbin-Watson:                   1.779\n",
      "Prob(Omnibus):                  0.000   Jarque-Bera (JB):           123287.976\n",
      "Skew:                           3.009   Prob(JB):                         0.00\n",
      "Kurtosis:                      33.107   Cond. No.                     2.05e+11\n",
      "==============================================================================\n",
      "\n",
      "Notes:\n",
      "[1] Standard Errors assume that the covariance matrix of the errors is correctly specified.\n",
      "[2] The condition number is large, 2.05e+11. This might indicate that there are\n",
      "strong multicollinearity or other numerical problems.\n"
     ]
    }
   ],
   "source": [
    "lm_ols = smf.ols(formula = 'pct_walking_and_public_transit ~ \\\n",
    "                                vehicles_per_worker + \\\n",
    "                                roads_length + \\\n",
    "                                intersections + \\\n",
    "                                total_population + \\\n",
    "                                pct_unemployed + \\\n",
    "                                land_area + \\\n",
    "                                cbp_total_employees + \\\n",
    "                                cbp_total_establishments \\\n",
    "                                ',\n",
    "                                # average_commute_time_per_worker_drive_alone + \\\n",
    "data = df).fit()\n",
    "print (lm_ols.summary())"
   ]
  },
  {
   "cell_type": "code",
   "execution_count": 66,
   "metadata": {},
   "outputs": [
    {
     "name": "stdout",
     "output_type": "stream",
     "text": [
      "                                  OLS Regression Results                                  \n",
      "==========================================================================================\n",
      "Dep. Variable:     pct_walking_and_public_transit   R-squared:                       0.696\n",
      "Model:                                        OLS   Adj. R-squared:                  0.696\n",
      "Method:                             Least Squares   F-statistic:                     1198.\n",
      "Date:                            Sun, 15 Jan 2023   Prob (F-statistic):               0.00\n",
      "Time:                                    15:45:36   Log-Likelihood:                 6463.1\n",
      "No. Observations:                            3141   AIC:                        -1.291e+04\n",
      "Df Residuals:                                3134   BIC:                        -1.287e+04\n",
      "Df Model:                                       6                                         \n",
      "Covariance Type:                        nonrobust                                         \n",
      "=======================================================================================\n",
      "                          coef    std err          t      P>|t|      [0.025      0.975]\n",
      "---------------------------------------------------------------------------------------\n",
      "Intercept               0.5668      0.007     77.179      0.000       0.552       0.581\n",
      "vehicles_per_worker    -0.6141      0.009    -71.584      0.000      -0.631      -0.597\n",
      "roads_length        -1.981e-09   3.89e-10     -5.092      0.000   -2.74e-09   -1.22e-09\n",
      "intersections       -2.202e-07   1.57e-07     -1.401      0.161   -5.28e-07    8.79e-08\n",
      "total_population     2.996e-08   3.16e-09      9.468      0.000    2.38e-08    3.62e-08\n",
      "pct_unemployed          0.0001      0.000      0.480      0.631      -0.000       0.001\n",
      "land_area            6.131e-13   6.64e-14      9.230      0.000    4.83e-13    7.43e-13\n",
      "==============================================================================\n",
      "Omnibus:                     2274.366   Durbin-Watson:                   1.785\n",
      "Prob(Omnibus):                  0.000   Jarque-Bera (JB):           114451.683\n",
      "Skew:                           2.893   Prob(JB):                         0.00\n",
      "Kurtosis:                      32.001   Cond. No.                     2.00e+11\n",
      "==============================================================================\n",
      "\n",
      "Notes:\n",
      "[1] Standard Errors assume that the covariance matrix of the errors is correctly specified.\n",
      "[2] The condition number is large,  2e+11. This might indicate that there are\n",
      "strong multicollinearity or other numerical problems.\n"
     ]
    }
   ],
   "source": [
    "lm_ols = smf.ols(formula = 'pct_walking_and_public_transit ~ \\\n",
    "                                vehicles_per_worker + \\\n",
    "                                roads_length + \\\n",
    "                                intersections + \\\n",
    "                                total_population + \\\n",
    "                                pct_unemployed + \\\n",
    "                                land_area ',\n",
    "                                # average_commute_time_per_worker_drive_alone + \\\n",
    "data = df).fit()\n",
    "print (lm_ols.summary())"
   ]
  },
  {
   "attachments": {},
   "cell_type": "markdown",
   "metadata": {},
   "source": [
    "# Comparing data for business establishment per county\n",
    "## this is on top of total road density, road intersection density, total population, total vehicles\n",
    "## include total time per commute method driving / carpooling vs walking & everything else"
   ]
  },
  {
   "cell_type": "code",
   "execution_count": 67,
   "metadata": {},
   "outputs": [],
   "source": [
    "# lm_ols = smf.ols(formula = 'pct_walking_and_public_transit ~ \\\n",
    "#                                 vehicles_per_worker + \\\n",
    "#                                 roads_length + \\\n",
    "#                                 intersections + \\\n",
    "#                                 total_population + \\\n",
    "#                                 pct_unemployed + \\\n",
    "#                                 land_area ',\n",
    "# data = df).fit()\n",
    "# print (lm_ols.summary())"
   ]
  },
  {
   "cell_type": "code",
   "execution_count": 68,
   "metadata": {},
   "outputs": [
    {
     "name": "stdout",
     "output_type": "stream",
     "text": [
      "                                  OLS Regression Results                                  \n",
      "==========================================================================================\n",
      "Dep. Variable:     pct_walking_and_public_transit   R-squared:                       0.706\n",
      "Model:                                        OLS   Adj. R-squared:                  0.705\n",
      "Method:                             Least Squares   F-statistic:                     1074.\n",
      "Date:                            Sun, 15 Jan 2023   Prob (F-statistic):               0.00\n",
      "Time:                                    15:45:36   Log-Likelihood:                 6512.4\n",
      "No. Observations:                            3141   AIC:                        -1.301e+04\n",
      "Df Residuals:                                3133   BIC:                        -1.296e+04\n",
      "Df Model:                                       7                                         \n",
      "Covariance Type:                        nonrobust                                         \n",
      "=======================================================================================\n",
      "                          coef    std err          t      P>|t|      [0.025      0.975]\n",
      "---------------------------------------------------------------------------------------\n",
      "Intercept               0.5534      0.007     75.252      0.000       0.539       0.568\n",
      "vehicles_per_worker    -0.6004      0.009    -70.186      0.000      -0.617      -0.584\n",
      "roads_length        -1.446e-09   3.87e-10     -3.740      0.000    -2.2e-09   -6.88e-10\n",
      "intersections       -4.451e-07   1.56e-07     -2.847      0.004   -7.52e-07   -1.39e-07\n",
      "total_population    -1.556e-07   1.88e-08     -8.271      0.000   -1.92e-07   -1.19e-07\n",
      "pct_unemployed          0.0001      0.000      0.604      0.546      -0.000       0.001\n",
      "land_area            6.638e-13   6.56e-14     10.120      0.000    5.35e-13    7.92e-13\n",
      "ttl_households       5.383e-07   5.38e-08     10.002      0.000    4.33e-07    6.44e-07\n",
      "==============================================================================\n",
      "Omnibus:                     2311.887   Durbin-Watson:                   1.804\n",
      "Prob(Omnibus):                  0.000   Jarque-Bera (JB):           116540.916\n",
      "Skew:                           2.969   Prob(JB):                         0.00\n",
      "Kurtosis:                      32.244   Cond. No.                     2.03e+11\n",
      "==============================================================================\n",
      "\n",
      "Notes:\n",
      "[1] Standard Errors assume that the covariance matrix of the errors is correctly specified.\n",
      "[2] The condition number is large, 2.03e+11. This might indicate that there are\n",
      "strong multicollinearity or other numerical problems.\n"
     ]
    }
   ],
   "source": [
    "lm_ols = smf.ols(formula = 'pct_walking_and_public_transit ~ \\\n",
    "                                vehicles_per_worker + \\\n",
    "                                roads_length + \\\n",
    "                                intersections + \\\n",
    "                                total_population + \\\n",
    "                                pct_unemployed + \\\n",
    "                                land_area + \\\n",
    "                                ttl_households + \\\n",
    "                                land_area',\n",
    "data = df).fit()\n",
    "print (lm_ols.summary())"
   ]
  },
  {
   "cell_type": "code",
   "execution_count": 69,
   "metadata": {},
   "outputs": [
    {
     "name": "stdout",
     "output_type": "stream",
     "text": [
      "                                  OLS Regression Results                                  \n",
      "==========================================================================================\n",
      "Dep. Variable:     pct_walking_and_public_transit   R-squared:                       0.703\n",
      "Model:                                        OLS   Adj. R-squared:                  0.702\n",
      "Method:                             Least Squares   F-statistic:                     925.7\n",
      "Date:                            Sun, 15 Jan 2023   Prob (F-statistic):               0.00\n",
      "Time:                                    15:45:36   Log-Likelihood:                 6518.6\n",
      "No. Observations:                            3139   AIC:                        -1.302e+04\n",
      "Df Residuals:                                3130   BIC:                        -1.296e+04\n",
      "Df Model:                                       8                                         \n",
      "Covariance Type:                        nonrobust                                         \n",
      "============================================================================================\n",
      "                               coef    std err          t      P>|t|      [0.025      0.975]\n",
      "--------------------------------------------------------------------------------------------\n",
      "Intercept                    0.5493      0.007     73.831      0.000       0.535       0.564\n",
      "vehicles_per_worker         -0.5959      0.009    -68.951      0.000      -0.613      -0.579\n",
      "roads_length             -1.394e-09   3.86e-10     -3.615      0.000   -2.15e-09   -6.38e-10\n",
      "intersections            -4.759e-07   1.57e-07     -3.037      0.002   -7.83e-07   -1.69e-07\n",
      "total_population         -1.554e-07   1.91e-08     -8.134      0.000   -1.93e-07   -1.18e-07\n",
      "pct_unemployed               0.0001      0.000      0.655      0.513      -0.000       0.001\n",
      "land_area                  6.75e-13   6.54e-14     10.314      0.000    5.47e-13    8.03e-13\n",
      "ttl_households            5.528e-07   5.55e-08      9.964      0.000    4.44e-07    6.62e-07\n",
      "cbp_total_establishments -1.714e-07   3.12e-07     -0.550      0.583   -7.83e-07     4.4e-07\n",
      "==============================================================================\n",
      "Omnibus:                     2335.389   Durbin-Watson:                   1.801\n",
      "Prob(Omnibus):                  0.000   Jarque-Bera (JB):           120591.257\n",
      "Skew:                           3.011   Prob(JB):                         0.00\n",
      "Kurtosis:                      32.761   Cond. No.                     2.05e+11\n",
      "==============================================================================\n",
      "\n",
      "Notes:\n",
      "[1] Standard Errors assume that the covariance matrix of the errors is correctly specified.\n",
      "[2] The condition number is large, 2.05e+11. This might indicate that there are\n",
      "strong multicollinearity or other numerical problems.\n"
     ]
    }
   ],
   "source": [
    "lm_ols = smf.ols(formula = 'pct_walking_and_public_transit ~ \\\n",
    "                                vehicles_per_worker + \\\n",
    "                                roads_length + \\\n",
    "                                intersections + \\\n",
    "                                total_population + \\\n",
    "                                pct_unemployed + \\\n",
    "                                land_area + \\\n",
    "                                ttl_households + \\\n",
    "                                land_area + \\\n",
    "                                cbp_total_establishments',\n",
    "data = df).fit()\n",
    "print (lm_ols.summary())"
   ]
  },
  {
   "cell_type": "code",
   "execution_count": 70,
   "metadata": {},
   "outputs": [
    {
     "name": "stdout",
     "output_type": "stream",
     "text": [
      "                                  OLS Regression Results                                  \n",
      "==========================================================================================\n",
      "Dep. Variable:     pct_walking_and_public_transit   R-squared:                       0.703\n",
      "Model:                                        OLS   Adj. R-squared:                  0.702\n",
      "Method:                             Least Squares   F-statistic:                     823.9\n",
      "Date:                            Sun, 15 Jan 2023   Prob (F-statistic):               0.00\n",
      "Time:                                    15:45:36   Log-Likelihood:                 6520.5\n",
      "No. Observations:                            3139   AIC:                        -1.302e+04\n",
      "Df Residuals:                                3129   BIC:                        -1.296e+04\n",
      "Df Model:                                       9                                         \n",
      "Covariance Type:                        nonrobust                                         \n",
      "============================================================================================\n",
      "                               coef    std err          t      P>|t|      [0.025      0.975]\n",
      "--------------------------------------------------------------------------------------------\n",
      "Intercept                    0.5489      0.007     73.795      0.000       0.534       0.564\n",
      "vehicles_per_worker         -0.5953      0.009    -68.863      0.000      -0.612      -0.578\n",
      "roads_length              -1.36e-09   3.86e-10     -3.524      0.000   -2.12e-09   -6.03e-10\n",
      "intersections            -4.884e-07   1.57e-07     -3.115      0.002   -7.96e-07   -1.81e-07\n",
      "total_population         -1.343e-07    2.2e-08     -6.105      0.000   -1.77e-07   -9.12e-08\n",
      "pct_unemployed               0.0001      0.000      0.644      0.520      -0.000       0.001\n",
      "land_area                 6.744e-13   6.54e-14     10.309      0.000    5.46e-13    8.03e-13\n",
      "ttl_households            4.842e-07   6.59e-08      7.350      0.000    3.55e-07    6.13e-07\n",
      "cbp_total_establishments -6.856e-07    4.1e-07     -1.672      0.095   -1.49e-06    1.19e-07\n",
      "cbp_total_employees       3.898e-08   2.02e-08      1.930      0.054   -6.18e-10    7.86e-08\n",
      "==============================================================================\n",
      "Omnibus:                     2341.036   Durbin-Watson:                   1.800\n",
      "Prob(Omnibus):                  0.000   Jarque-Bera (JB):           121902.321\n",
      "Skew:                           3.020   Prob(JB):                         0.00\n",
      "Kurtosis:                      32.926   Cond. No.                     2.06e+11\n",
      "==============================================================================\n",
      "\n",
      "Notes:\n",
      "[1] Standard Errors assume that the covariance matrix of the errors is correctly specified.\n",
      "[2] The condition number is large, 2.06e+11. This might indicate that there are\n",
      "strong multicollinearity or other numerical problems.\n"
     ]
    }
   ],
   "source": [
    "lm_ols = smf.ols(formula = 'pct_walking_and_public_transit ~ \\\n",
    "                                vehicles_per_worker + \\\n",
    "                                roads_length + \\\n",
    "                                intersections + \\\n",
    "                                total_population + \\\n",
    "                                pct_unemployed + \\\n",
    "                                land_area + \\\n",
    "                                ttl_households + \\\n",
    "                                land_area + \\\n",
    "                                cbp_total_establishments + cbp_total_employees',\n",
    "data = df).fit()\n",
    "print (lm_ols.summary())"
   ]
  },
  {
   "cell_type": "code",
   "execution_count": 71,
   "metadata": {},
   "outputs": [
    {
     "name": "stdout",
     "output_type": "stream",
     "text": [
      "                                  OLS Regression Results                                  \n",
      "==========================================================================================\n",
      "Dep. Variable:     pct_walking_and_public_transit   R-squared:                       0.720\n",
      "Model:                                        OLS   Adj. R-squared:                  0.719\n",
      "Method:                             Least Squares   F-statistic:                     502.0\n",
      "Date:                            Sun, 15 Jan 2023   Prob (F-statistic):               0.00\n",
      "Time:                                    15:45:36   Log-Likelihood:                 6612.2\n",
      "No. Observations:                            3139   AIC:                        -1.319e+04\n",
      "Df Residuals:                                3122   BIC:                        -1.309e+04\n",
      "Df Model:                                      16                                         \n",
      "Covariance Type:                        nonrobust                                         \n",
      "=============================================================================================\n",
      "                                coef    std err          t      P>|t|      [0.025      0.975]\n",
      "---------------------------------------------------------------------------------------------\n",
      "Intercept                     0.5301      0.007     71.451      0.000       0.516       0.545\n",
      "vehicles_per_worker          -0.5734      0.009    -66.283      0.000      -0.590      -0.556\n",
      "roads_length              -1.756e-09    3.8e-10     -4.617      0.000    -2.5e-09   -1.01e-09\n",
      "intersections             -2.967e-07   1.59e-07     -1.862      0.063   -6.09e-07    1.58e-08\n",
      "total_population          -1.039e-07    2.3e-08     -4.517      0.000   -1.49e-07   -5.88e-08\n",
      "pct_unemployed            -2.934e-05      0.000     -0.144      0.886      -0.000       0.000\n",
      "land_area                  7.343e-13   6.38e-14     11.510      0.000    6.09e-13    8.59e-13\n",
      "ttl_households             4.144e-07    7.2e-08      5.754      0.000    2.73e-07    5.56e-07\n",
      "cbp_num_employees_5        -3.97e-06   7.79e-07     -5.094      0.000    -5.5e-06   -2.44e-06\n",
      "cbp_num_employees_5_9       4.86e-05   9.29e-06      5.233      0.000    3.04e-05    6.68e-05\n",
      "cbp_num_employees_10_19   -2.898e-05    1.7e-05     -1.707      0.088   -6.23e-05    4.31e-06\n",
      "cbp_num_employees_20_49    1.479e-05   2.12e-05      0.697      0.486   -2.69e-05    5.64e-05\n",
      "cbp_num_employees_50_99      -0.0001   4.55e-05     -2.550      0.011      -0.000   -2.68e-05\n",
      "cbp_num_employees_100_249    -0.0003   5.62e-05     -4.742      0.000      -0.000      -0.000\n",
      "cbp_num_employees_250_499     0.0005      0.000      3.360      0.001       0.000       0.001\n",
      "cbp_num_employees_500_999     0.0005      0.000      2.498      0.013       0.000       0.001\n",
      "cbp_num_employees_1000        0.0012      0.000      4.461      0.000       0.001       0.002\n",
      "==============================================================================\n",
      "Omnibus:                     2385.234   Durbin-Watson:                   1.807\n",
      "Prob(Omnibus):                  0.000   Jarque-Bera (JB):           139438.221\n",
      "Skew:                           3.070   Prob(JB):                         0.00\n",
      "Kurtosis:                      35.069   Cond. No.                     2.11e+11\n",
      "==============================================================================\n",
      "\n",
      "Notes:\n",
      "[1] Standard Errors assume that the covariance matrix of the errors is correctly specified.\n",
      "[2] The condition number is large, 2.11e+11. This might indicate that there are\n",
      "strong multicollinearity or other numerical problems.\n"
     ]
    }
   ],
   "source": [
    "lm_ols = smf.ols(formula = 'pct_walking_and_public_transit ~ \\\n",
    "                                vehicles_per_worker + \\\n",
    "                                roads_length + \\\n",
    "                                intersections + \\\n",
    "                                total_population + \\\n",
    "                                pct_unemployed + \\\n",
    "                                land_area + \\\n",
    "                                ttl_households + \\\n",
    "                                land_area + \\\n",
    "                                cbp_num_employees_5 + \\\n",
    "                                cbp_num_employees_5_9 + \\\n",
    "                                cbp_num_employees_10_19 + \\\n",
    "                                cbp_num_employees_20_49 + \\\n",
    "                                cbp_num_employees_50_99 + \\\n",
    "                                cbp_num_employees_100_249 + \\\n",
    "                                cbp_num_employees_250_499 + \\\n",
    "                                cbp_num_employees_500_999 + \\\n",
    "                                cbp_num_employees_1000',\n",
    "data = df).fit()\n",
    "print (lm_ols.summary())\n",
    "# lm_ols = smf.ols(formula = 'pct_walking_and_public_transit ~ \\\n",
    "#                                 vehicles_per_worker + \\\n",
    "#                                 roads_length + \\\n",
    "#                                 intersections + \\\n",
    "#                                 total_population + \\\n",
    "#                                 pct_unemployed + \\\n",
    "#                                 land_area + \\\n",
    "#                                 ttl_households + \\\n",
    "#                                 land_area + \\\n",
    "#                                 cbp_num_employees_5 ',\n",
    "# data = df).fit()\n",
    "# print (lm_ols.summary())"
   ]
  },
  {
   "cell_type": "code",
   "execution_count": 72,
   "metadata": {},
   "outputs": [
    {
     "name": "stdout",
     "output_type": "stream",
     "text": [
      "                                  OLS Regression Results                                  \n",
      "==========================================================================================\n",
      "Dep. Variable:     pct_walking_and_public_transit   R-squared:                       0.716\n",
      "Model:                                        OLS   Adj. R-squared:                  0.714\n",
      "Method:                             Least Squares   F-statistic:                     462.9\n",
      "Date:                            Sun, 15 Jan 2023   Prob (F-statistic):               0.00\n",
      "Time:                                    15:45:37   Log-Likelihood:                 6589.5\n",
      "No. Observations:                            3139   AIC:                        -1.314e+04\n",
      "Df Residuals:                                3121   BIC:                        -1.303e+04\n",
      "Df Model:                                      17                                         \n",
      "Covariance Type:                        nonrobust                                         \n",
      "=============================================================================================\n",
      "                                coef    std err          t      P>|t|      [0.025      0.975]\n",
      "---------------------------------------------------------------------------------------------\n",
      "Intercept                     0.5172      0.008     62.011      0.000       0.501       0.534\n",
      "vehicles_per_worker          -0.5672      0.009    -61.138      0.000      -0.585      -0.549\n",
      "roads_length              -3.036e-09   4.42e-10     -6.874      0.000    -3.9e-09   -2.17e-09\n",
      "intersections             -1.106e-07   1.63e-07     -0.677      0.498   -4.31e-07     2.1e-07\n",
      "total_population          -1.059e-07   2.32e-08     -4.558      0.000   -1.51e-07   -6.03e-08\n",
      "pct_unemployed             4.797e-05      0.000      0.233      0.816      -0.000       0.000\n",
      "ttl_households             4.289e-07   7.29e-08      5.886      0.000    2.86e-07    5.72e-07\n",
      "sqrt_land_area             2.597e-07   2.81e-08      9.244      0.000    2.05e-07    3.15e-07\n",
      "cbp_total_establishments   9.569e-05      0.000      0.222      0.824      -0.001       0.001\n",
      "cbp_num_employees_5       -9.986e-05      0.000     -0.232      0.817      -0.001       0.001\n",
      "cbp_num_employees_5_9     -4.531e-05      0.000     -0.105      0.916      -0.001       0.001\n",
      "cbp_num_employees_10_19      -0.0001      0.000     -0.297      0.766      -0.001       0.001\n",
      "cbp_num_employees_20_49   -7.744e-05      0.000     -0.180      0.857      -0.001       0.001\n",
      "cbp_num_employees_50_99      -0.0002      0.000     -0.491      0.623      -0.001       0.001\n",
      "cbp_num_employees_100_249    -0.0004      0.000     -0.852      0.394      -0.001       0.000\n",
      "cbp_num_employees_250_499     0.0004      0.000      0.887      0.375      -0.000       0.001\n",
      "cbp_num_employees_500_999     0.0005      0.000      0.968      0.333      -0.000       0.001\n",
      "cbp_num_employees_1000        0.0011      0.001      2.146      0.032    9.72e-05       0.002\n",
      "==============================================================================\n",
      "Omnibus:                     2344.636   Durbin-Watson:                   1.787\n",
      "Prob(Omnibus):                  0.000   Jarque-Bera (JB):           123404.100\n",
      "Skew:                           3.024   Prob(JB):                         0.00\n",
      "Kurtosis:                      33.116   Cond. No.                     1.11e+08\n",
      "==============================================================================\n",
      "\n",
      "Notes:\n",
      "[1] Standard Errors assume that the covariance matrix of the errors is correctly specified.\n",
      "[2] The condition number is large, 1.11e+08. This might indicate that there are\n",
      "strong multicollinearity or other numerical problems.\n"
     ]
    }
   ],
   "source": [
    "lm_ols = smf.ols(formula = 'pct_walking_and_public_transit ~ \\\n",
    "                                vehicles_per_worker + \\\n",
    "                                roads_length + \\\n",
    "                                intersections + \\\n",
    "                                total_population + \\\n",
    "                                pct_unemployed + \\\n",
    "                                ttl_households + \\\n",
    "                                sqrt_land_area + \\\n",
    "                                cbp_total_establishments + \\\n",
    "                                cbp_num_employees_5 + \\\n",
    "                                cbp_num_employees_5_9 + \\\n",
    "                                cbp_num_employees_10_19 + \\\n",
    "                                cbp_num_employees_20_49 + \\\n",
    "                                cbp_num_employees_50_99 + \\\n",
    "                                cbp_num_employees_100_249 + \\\n",
    "                                cbp_num_employees_250_499 + \\\n",
    "                                cbp_num_employees_500_999 + \\\n",
    "                                cbp_num_employees_1000',\n",
    "data = df).fit()\n",
    "print (lm_ols.summary())"
   ]
  },
  {
   "attachments": {},
   "cell_type": "markdown",
   "metadata": {},
   "source": [
    "# LASSO REGRESSION"
   ]
  },
  {
   "cell_type": "code",
   "execution_count": 73,
   "metadata": {},
   "outputs": [],
   "source": [
    "from sklearn.model_selection import train_test_split\n",
    "from sklearn.linear_model import LinearRegression\n",
    "from sklearn.linear_model import Ridge\n",
    "from sklearn.linear_model import Lasso\n",
    "from sklearn.model_selection import cross_val_score\n",
    "# from sklearn.linear_model import ElasticNet\n",
    "# model = ElasticNet(alpha=1.0, l1_ratio=0.5)\n",
    "from sklearn import preprocessing\n",
    "scaler = preprocessing.StandardScaler()\n",
    "\n",
    "# X = df['pct_walking_and_public_transit']\n",
    "# y = df[['vehicles_per_worker','roads_length','intersections','total_population','average_commute_time_per_worker_drive_alone','pct_unemployed','land_area']]\n",
    "\n",
    "df = df.dropna(subset=['pct_walking_and_public_transit','vehicles_per_worker','roads_length','intersections','total_population','average_commute_time_per_worker_drive_alone','pct_unemployed','land_area','cbp_total_employees', 'cbp_total_establishments'])\n",
    "\n",
    "X = df[['vehicles_per_worker','roads_length','intersections','total_population','average_commute_time_per_worker_drive_alone','pct_unemployed','land_area','cbp_total_employees', 'cbp_total_establishments']]\n",
    "y = df['pct_walking_and_public_transit']"
   ]
  },
  {
   "cell_type": "code",
   "execution_count": 74,
   "metadata": {},
   "outputs": [],
   "source": [
    "\n",
    "# Here, I standardize by X data using StandardScalar\n",
    "X_train, X_test, y_train, y_test = train_test_split(X, y)\n",
    "# scaler.fit(X_test)\n",
    "# X_test_scaled = scaler.transform(X_test)\n",
    "# scaler.fit(X_train)\n",
    "# X_train_scaled = scaler.transform(X_train)\n",
    "\n",
    "scaler = preprocessing.StandardScaler().fit(X_train)\n",
    "X_train_scaled = scaler.transform(X_train)\n",
    "X_test_scaled = scaler.transform(X_test)"
   ]
  },
  {
   "cell_type": "code",
   "execution_count": 75,
   "metadata": {},
   "outputs": [
    {
     "name": "stdout",
     "output_type": "stream",
     "text": [
      "LASSO REGRESSION (UNSCALED DATA)\n",
      "Training set score: 0.250\n",
      "Test set score: 0.169\n",
      "Mean Cross-Validation, Kfold: -0.016\n",
      "Mean MAE: 3.711 (0.549)\n"
     ]
    }
   ],
   "source": [
    "lasso = Lasso().fit(X_train, y_train) # Fit the training data to a lasso regression line with alpha = 0.01 and 100,000 iterations\n",
    "\n",
    "print(\"LASSO REGRESSION (UNSCALED DATA)\") # LASSO is L1 penalty, which adds “absolute value of magnitude” of coefficient as penalty term to the loss function. Good for feature selection when you have a lot of features.\n",
    "print(\"Training set score: {:.3f}\".format(lasso.score(X_train, y_train)))\n",
    "print(\"Test set score: {:.3f}\".format(lasso.score(X_test, y_test)))\n",
    "\n",
    "# Kfold cross validation\n",
    "print(\"Mean Cross-Validation, Kfold: {:.3f}\".format(np.mean(cross_val_score(lasso, X_train, y_train))))\n",
    "\n",
    "lasso_unscaled = np.mean(cross_val_score(lasso, X_train, y_train)) # Will use later to compare results\n",
    "\n",
    "# define model\n",
    "model = Lasso(alpha=1.0)\n",
    "\n",
    "# evaluate an lasso regression model on the dataset\n",
    "from numpy import mean\n",
    "from numpy import std\n",
    "from numpy import absolute\n",
    "from pandas import read_csv\n",
    "from sklearn.model_selection import cross_val_score\n",
    "from sklearn.model_selection import RepeatedKFold\n",
    "from sklearn.linear_model import Lasso\n",
    "# load the dataset\n",
    "url = 'https://raw.githubusercontent.com/jbrownlee/Datasets/master/housing.csv'\n",
    "dataframe = read_csv(url, header=None)\n",
    "data = dataframe.values\n",
    "X, y = data[:, :-1], data[:, -1]\n",
    "# define model\n",
    "model = Lasso(alpha=1.0)\n",
    "# define model evaluation method\n",
    "cv = RepeatedKFold(n_splits=10, n_repeats=3, random_state=1)\n",
    "# evaluate model\n",
    "scores = cross_val_score(model, X, y, scoring='neg_mean_absolute_error', cv=cv, n_jobs=-1)\n",
    "# force scores to be positive\n",
    "scores = absolute(scores)\n",
    "print('Mean MAE: %.3f (%.3f)' % (mean(scores), std(scores)))"
   ]
  },
  {
   "cell_type": "code",
   "execution_count": 76,
   "metadata": {},
   "outputs": [
    {
     "name": "stdout",
     "output_type": "stream",
     "text": [
      "(506, 14)\n",
      "        0     1     2   3      4      5     6       7   8      9     10  \\\n",
      "0  0.00632  18.0  2.31   0  0.538  6.575  65.2  4.0900   1  296.0  15.3   \n",
      "1  0.02731   0.0  7.07   0  0.469  6.421  78.9  4.9671   2  242.0  17.8   \n",
      "2  0.02729   0.0  7.07   0  0.469  7.185  61.1  4.9671   2  242.0  17.8   \n",
      "3  0.03237   0.0  2.18   0  0.458  6.998  45.8  6.0622   3  222.0  18.7   \n",
      "4  0.06905   0.0  2.18   0  0.458  7.147  54.2  6.0622   3  222.0  18.7   \n",
      "\n",
      "       11    12    13  \n",
      "0  396.90  4.98  24.0  \n",
      "1  396.90  9.14  21.6  \n",
      "2  392.83  4.03  34.7  \n",
      "3  394.63  2.94  33.4  \n",
      "4  396.90  5.33  36.2  \n"
     ]
    }
   ],
   "source": [
    "# load and summarize the housing dataset\n",
    "from pandas import read_csv\n",
    "from matplotlib import pyplot\n",
    "# load dataset\n",
    "url = 'https://raw.githubusercontent.com/jbrownlee/Datasets/master/housing.csv'\n",
    "dataframe = read_csv(url, header=None)\n",
    "# summarize shape\n",
    "print(dataframe.shape)\n",
    "# summarize first few lines\n",
    "print(dataframe.head())"
   ]
  }
 ],
 "metadata": {
  "kernelspec": {
   "display_name": "base",
   "language": "python",
   "name": "python3"
  },
  "language_info": {
   "codemirror_mode": {
    "name": "ipython",
    "version": 3
   },
   "file_extension": ".py",
   "mimetype": "text/x-python",
   "name": "python",
   "nbconvert_exporter": "python",
   "pygments_lexer": "ipython3",
   "version": "3.9.13 (main, Aug 25 2022, 23:51:50) [MSC v.1916 64 bit (AMD64)]"
  },
  "orig_nbformat": 4,
  "vscode": {
   "interpreter": {
    "hash": "b8b887db99f8edfa7f3e3a008cc1b31fa63afeb09acb3c9f070418078094f7b2"
   }
  }
 },
 "nbformat": 4,
 "nbformat_minor": 2
}
